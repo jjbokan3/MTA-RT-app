{
 "cells": [
  {
   "cell_type": "code",
   "execution_count": 1,
   "metadata": {},
   "outputs": [],
   "source": [
    "import dash\n",
    "from dash import dcc, html\n",
    "from real_time_subway_map_final import initialize_train_table"
   ]
  },
  {
   "cell_type": "code",
   "execution_count": 2,
   "metadata": {},
   "outputs": [],
   "source": [
    "trains_tracked = {}\n",
    "last_updated = {\"last_updated\": None}\n",
    "problems_log = {}"
   ]
  },
  {
   "cell_type": "code",
   "execution_count": 3,
   "metadata": {},
   "outputs": [],
   "source": [
    "trains_tracked = initialize_train_table(trains_tracked, last_updated, problems_log)"
   ]
  },
  {
   "cell_type": "code",
   "execution_count": null,
   "metadata": {},
   "outputs": [],
   "source": [
    "app = dash.Dash(__name__)\n",
    "\n",
    "colors = [\"red\", \"blue\", \"green\", \"yellow\", \"purple\", \"orange\", \"pink\", \"cyan\"]\n",
    "\n",
    "app.layout = html.Div(\n",
    "    [\n",
    "        html.Div(\n",
    "            [\n",
    "                html.Button(\n",
    "                    str(i + 1),\n",
    "                    id=f\"button-{i + 1}\",\n",
    "                    style={\n",
    "                        \"fontSize\": \"40px\",\n",
    "                        \"borderRadius\": \"50%\",\n",
    "                        \"width\": \"150px\",\n",
    "                        \"height\": \"150px\",\n",
    "                        \"backgroundColor\": colors[i],\n",
    "                        \"display\": \"inline-block\",\n",
    "                        \"margin\": \"2px\",\n",
    "                    },\n",
    "                )\n",
    "                for i in range(8)\n",
    "            ],\n",
    "            style={\n",
    "                \"display\": \"grid\",\n",
    "                \"gridTemplateColumns\": \"repeat(2, max-content)\",\n",
    "                \"gridGap\": \"2px\",\n",
    "                \"justifyContent\": \"center\",\n",
    "                \"alignItems\": \"center\",\n",
    "                \"height\": \"60vh\",\n",
    "                \"textAlign\": \"center\",\n",
    "            },\n",
    "        )\n",
    "    ]\n",
    ")\n",
    "\n",
    "if __name__ == \"__main__\":\n",
    "    app.run_server(debug=True)\n"
   ]
  }
 ],
 "metadata": {
  "kernelspec": {
   "display_name": "base",
   "language": "python",
   "name": "python3"
  },
  "language_info": {
   "codemirror_mode": {
    "name": "ipython",
    "version": 3
   },
   "file_extension": ".py",
   "mimetype": "text/x-python",
   "name": "python",
   "nbconvert_exporter": "python",
   "pygments_lexer": "ipython3",
   "version": "3.12.2"
  }
 },
 "nbformat": 4,
 "nbformat_minor": 2
}
