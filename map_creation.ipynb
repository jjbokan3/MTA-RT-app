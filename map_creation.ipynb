{
 "cells": [
  {
   "cell_type": "code",
   "execution_count": 2,
   "metadata": {},
   "outputs": [],
   "source": [
    "import requests\n",
    "import gtfs_realtime_NYCT_pb2\n",
    "import gtfs_realtime_pb2\n",
    "import polars as pl\n",
    "from polars import col\n",
    "import re\n",
    "from PIL import Image\n",
    "import dash\n",
    "from dash import dcc, html\n",
    "from dash.dependencies import Input, Output\n",
    "import plotly.graph_objects as go\n",
    "import pandas as pd\n",
    "from PIL import Image\n",
    "import pyarrow\n",
    "import json"
   ]
  },
  {
   "cell_type": "code",
   "execution_count": 3,
   "metadata": {},
   "outputs": [],
   "source": [
    "api_endpoints = {\n",
    "    \"ACE\": r\"https://api-endpoint.mta.info/Dataservice/mtagtfsfeeds/nyct%2Fgtfs-ace\",\n",
    "    \"BDFM\": r\"https://api-endpoint.mta.info/Dataservice/mtagtfsfeeds/nyct%2Fgtfs-bdfm\",\n",
    "    \"G\": r\"https://api-endpoint.mta.info/Dataservice/mtagtfsfeeds/nyct%2Fgtfs-g\",\n",
    "    \"JZ\": r\"https://api-endpoint.mta.info/Dataservice/mtagtfsfeeds/nyct%2Fgtfs-jz\",\n",
    "    \"NQRW\": r\"https://api-endpoint.mta.info/Dataservice/mtagtfsfeeds/nyct%2Fgtfs-nqrw\",\n",
    "    \"L\": r\"https://api-endpoint.mta.info/Dataservice/mtagtfsfeeds/nyct%2Fgtfs-l\",\n",
    "    \"1234567\": r\"https://api-endpoint.mta.info/Dataservice/mtagtfsfeeds/nyct%2Fgtfs\",\n",
    "    \"SI\": r\"https://api-endpoint.mta.info/Dataservice/mtagtfsfeeds/nyct%2Fgtfs-si\",\n",
    "}"
   ]
  },
  {
   "cell_type": "code",
   "execution_count": 4,
   "metadata": {},
   "outputs": [],
   "source": [
    "response = requests.get(\n",
    "    \"https://api-endpoint.mta.info/Dataservice/mtagtfsfeeds/nyct%2Fgtfs-bdfm\"\n",
    ")"
   ]
  },
  {
   "cell_type": "code",
   "execution_count": 5,
   "metadata": {},
   "outputs": [],
   "source": [
    "feed = gtfs_realtime_pb2.FeedMessage()"
   ]
  },
  {
   "cell_type": "code",
   "execution_count": 6,
   "metadata": {},
   "outputs": [
    {
     "data": {
      "text/plain": [
       "179295"
      ]
     },
     "execution_count": 6,
     "metadata": {},
     "output_type": "execute_result"
    }
   ],
   "source": [
    "feed.ParseFromString(response.content)"
   ]
  },
  {
   "cell_type": "code",
   "execution_count": 7,
   "metadata": {},
   "outputs": [],
   "source": [
    "stops = pl.read_csv(\n",
    "    \"stops.txt\",\n",
    "    separator=\",\",\n",
    "    has_header=True,\n",
    "    schema_overrides={\"parent_station\": pl.String},\n",
    ")\n",
    "\n",
    "shapes = pl.read_csv(\n",
    "    \"shapes.txt\",\n",
    "    separator=\",\",\n",
    "    has_header=True,\n",
    ")\n",
    "\n",
    "colors = pl.read_csv(\"MTA_Colors_20240623.csv\", separator=\",\", has_header=True)"
   ]
  },
  {
   "cell_type": "code",
   "execution_count": 8,
   "metadata": {},
   "outputs": [],
   "source": [
    "colors = colors.filter(col(\"Operator\") == \"New York City Subway\")\n",
    "colors = colors.with_columns(\n",
    "    col(\"Service\").str.split(\",\")\n",
    ")  # Split the comma-delimited values into lists\n",
    "colors = colors.explode(\"Service\")  # Explode the lists into separate rows"
   ]
  },
  {
   "cell_type": "code",
   "execution_count": 10,
   "metadata": {},
   "outputs": [],
   "source": [
    "shape_unpack_re = re.compile(r\"^(\\w{1}).*\\.+(\\w+)$\")\n",
    "\n",
    "\n",
    "def shape_unpack(shape):\n",
    "    m = re.match(shape_unpack_re, shape)\n",
    "    return m.group(1), m.group(2)"
   ]
  },
  {
   "cell_type": "code",
   "execution_count": 11,
   "metadata": {},
   "outputs": [],
   "source": [
    "shapes_clean = shapes.with_columns(\n",
    "    [\n",
    "        shapes[\"shape_id\"]\n",
    "        .map_elements(lambda x: shape_unpack(x)[0], return_dtype=str)\n",
    "        .alias(\"Line\"),\n",
    "        shapes[\"shape_id\"]\n",
    "        .map_elements(lambda x: shape_unpack(x)[1], return_dtype=str)\n",
    "        .alias(\"Line_Variation\"),\n",
    "    ]\n",
    ")"
   ]
  },
  {
   "cell_type": "code",
   "execution_count": 12,
   "metadata": {},
   "outputs": [],
   "source": [
    "longest_shapes = pl.sql(\n",
    "    \"\"\"\n",
    "    WITH cte1 as (\n",
    "        select Line, max(shape_pt_sequence) as max_points\n",
    "        from shapes_clean\n",
    "        group by Line\n",
    "    )\n",
    "    select Line, max(shape_id), max_points from shapes_clean s\n",
    "    join cte1 c on s.shape_pt_sequence=c.max_points and s.Line=c.Line\n",
    "    group by Line, max_points\n",
    "    \"\"\"\n",
    ").collect()"
   ]
  },
  {
   "cell_type": "code",
   "execution_count": 14,
   "metadata": {},
   "outputs": [],
   "source": [
    "longest_shapes_final = (\n",
    "    shapes_clean.join(longest_shapes, on=\"shape_id\")\n",
    "    .select([\"Line\", \"shape_pt_sequence\", \"shape_pt_lon\", \"shape_pt_lat\"])\n",
    "    .join(colors.select([\"Service\", \"Hex color\"]), left_on=\"Line\", right_on=\"Service\")\n",
    ")"
   ]
  },
  {
   "cell_type": "code",
   "execution_count": 16,
   "metadata": {},
   "outputs": [],
   "source": [
    "stop_removal_re = r\".*[NS]$\"\n",
    "\n",
    "stops = stops.filter(~stops[\"stop_id\"].str.contains(stop_removal_re))"
   ]
  },
  {
   "cell_type": "code",
   "execution_count": 17,
   "metadata": {},
   "outputs": [],
   "source": [
    "stop_unpack_re = re.compile(r\"^(\\w{1})(\\d{2})\")\n",
    "\n",
    "\n",
    "def stop_unpack(stop):\n",
    "    m = re.match(stop_unpack_re, stop)\n",
    "    return m.group(1), m.group(2)"
   ]
  },
  {
   "cell_type": "code",
   "execution_count": 18,
   "metadata": {},
   "outputs": [],
   "source": [
    "stops_clean = stops[[\"stop_id\", \"stop_name\", \"stop_lat\", \"stop_lon\"]].with_columns(\n",
    "    [\n",
    "        stops[\"stop_id\"]\n",
    "        .map_elements(lambda x: stop_unpack(x)[0], return_dtype=str)\n",
    "        .alias(\"Line\"),\n",
    "        stops[\"stop_id\"]\n",
    "        .map_elements(lambda x: stop_unpack(x)[1], return_dtype=str)\n",
    "        .alias(\"Order\"),\n",
    "    ]\n",
    ")\n",
    "# stops_clean = stops_clean.join(line_points, left_on=\"Line\", right_on=\"Line\", how=\"left\")\n",
    "stops_clean = stops_clean.join(colors, left_on=\"Line\", right_on=\"Service\").select(\n",
    "    [\"stop_name\", \"stop_lat\", \"stop_lon\", \"Line\", \"Order\", \"Hex color\"]\n",
    ")"
   ]
  },
  {
   "cell_type": "code",
   "execution_count": 19,
   "metadata": {},
   "outputs": [
    {
     "data": {
      "text/html": [
       "<div><style>\n",
       ".dataframe > thead > tr,\n",
       ".dataframe > tbody > tr {\n",
       "  text-align: right;\n",
       "  white-space: pre-wrap;\n",
       "}\n",
       "</style>\n",
       "<small>shape: (482, 6)</small><table border=\"1\" class=\"dataframe\"><thead><tr><th>stop_name</th><th>stop_lat</th><th>stop_lon</th><th>Line</th><th>Order</th><th>Hex color</th></tr><tr><td>str</td><td>f64</td><td>f64</td><td>str</td><td>str</td><td>str</td></tr></thead><tbody><tr><td>&quot;Van Cortlandt Park-242 St&quot;</td><td>40.889248</td><td>-73.898583</td><td>&quot;1&quot;</td><td>&quot;01&quot;</td><td>&quot;#EE352E&quot;</td></tr><tr><td>&quot;238 St&quot;</td><td>40.884667</td><td>-73.90087</td><td>&quot;1&quot;</td><td>&quot;03&quot;</td><td>&quot;#EE352E&quot;</td></tr><tr><td>&quot;231 St&quot;</td><td>40.878856</td><td>-73.904834</td><td>&quot;1&quot;</td><td>&quot;04&quot;</td><td>&quot;#EE352E&quot;</td></tr><tr><td>&quot;Marble Hill-225 St&quot;</td><td>40.874561</td><td>-73.909831</td><td>&quot;1&quot;</td><td>&quot;06&quot;</td><td>&quot;#EE352E&quot;</td></tr><tr><td>&quot;215 St&quot;</td><td>40.869444</td><td>-73.915279</td><td>&quot;1&quot;</td><td>&quot;07&quot;</td><td>&quot;#EE352E&quot;</td></tr><tr><td>&hellip;</td><td>&hellip;</td><td>&hellip;</td><td>&hellip;</td><td>&hellip;</td><td>&hellip;</td></tr><tr><td>&quot;Grasmere&quot;</td><td>40.603117</td><td>-74.084087</td><td>&quot;S&quot;</td><td>&quot;27&quot;</td><td>&quot;#808183&quot;</td></tr><tr><td>&quot;Clifton&quot;</td><td>40.621319</td><td>-74.071402</td><td>&quot;S&quot;</td><td>&quot;28&quot;</td><td>&quot;#808183&quot;</td></tr><tr><td>&quot;Stapleton&quot;</td><td>40.627915</td><td>-74.075162</td><td>&quot;S&quot;</td><td>&quot;29&quot;</td><td>&quot;#808183&quot;</td></tr><tr><td>&quot;Tompkinsville&quot;</td><td>40.636949</td><td>-74.074835</td><td>&quot;S&quot;</td><td>&quot;30&quot;</td><td>&quot;#808183&quot;</td></tr><tr><td>&quot;St George&quot;</td><td>40.643748</td><td>-74.073643</td><td>&quot;S&quot;</td><td>&quot;31&quot;</td><td>&quot;#808183&quot;</td></tr></tbody></table></div>"
      ],
      "text/plain": [
       "shape: (482, 6)\n",
       "┌───────────────────────────┬───────────┬────────────┬──────┬───────┬───────────┐\n",
       "│ stop_name                 ┆ stop_lat  ┆ stop_lon   ┆ Line ┆ Order ┆ Hex color │\n",
       "│ ---                       ┆ ---       ┆ ---        ┆ ---  ┆ ---   ┆ ---       │\n",
       "│ str                       ┆ f64       ┆ f64        ┆ str  ┆ str   ┆ str       │\n",
       "╞═══════════════════════════╪═══════════╪════════════╪══════╪═══════╪═══════════╡\n",
       "│ Van Cortlandt Park-242 St ┆ 40.889248 ┆ -73.898583 ┆ 1    ┆ 01    ┆ #EE352E   │\n",
       "│ 238 St                    ┆ 40.884667 ┆ -73.90087  ┆ 1    ┆ 03    ┆ #EE352E   │\n",
       "│ 231 St                    ┆ 40.878856 ┆ -73.904834 ┆ 1    ┆ 04    ┆ #EE352E   │\n",
       "│ Marble Hill-225 St        ┆ 40.874561 ┆ -73.909831 ┆ 1    ┆ 06    ┆ #EE352E   │\n",
       "│ 215 St                    ┆ 40.869444 ┆ -73.915279 ┆ 1    ┆ 07    ┆ #EE352E   │\n",
       "│ …                         ┆ …         ┆ …          ┆ …    ┆ …     ┆ …         │\n",
       "│ Grasmere                  ┆ 40.603117 ┆ -74.084087 ┆ S    ┆ 27    ┆ #808183   │\n",
       "│ Clifton                   ┆ 40.621319 ┆ -74.071402 ┆ S    ┆ 28    ┆ #808183   │\n",
       "│ Stapleton                 ┆ 40.627915 ┆ -74.075162 ┆ S    ┆ 29    ┆ #808183   │\n",
       "│ Tompkinsville             ┆ 40.636949 ┆ -74.074835 ┆ S    ┆ 30    ┆ #808183   │\n",
       "│ St George                 ┆ 40.643748 ┆ -74.073643 ┆ S    ┆ 31    ┆ #808183   │\n",
       "└───────────────────────────┴───────────┴────────────┴──────┴───────┴───────────┘"
      ]
     },
     "execution_count": 19,
     "metadata": {},
     "output_type": "execute_result"
    }
   ],
   "source": [
    "stops_clean"
   ]
  },
  {
   "cell_type": "code",
   "execution_count": 20,
   "metadata": {},
   "outputs": [
    {
     "name": "stderr",
     "output_type": "stream",
     "text": [
      "/var/folders/7y/62_9jkxd1k70c309j3h2bgbh0000gn/T/ipykernel_91551/4235301659.py:1: DeprecationWarning: The default coalesce behavior of left join will change to `False` in the next breaking release. Pass `coalesce=True` to keep the current behavior and silence this warning.\n",
      "  shapes_final = longest_shapes_final.join(\n"
     ]
    }
   ],
   "source": [
    "shapes_final = longest_shapes_final.join(\n",
    "    stops_clean.select([\"stop_lon\", \"stop_lat\", \"stop_name\"]),\n",
    "    left_on=(\"shape_pt_lon\", \"shape_pt_lat\"),\n",
    "    right_on=(\"stop_lon\", \"stop_lat\"),\n",
    "    how=\"left\",\n",
    ")"
   ]
  },
  {
   "cell_type": "code",
   "execution_count": 21,
   "metadata": {},
   "outputs": [
    {
     "data": {
      "text/html": [
       "<div><style>\n",
       ".dataframe > thead > tr,\n",
       ".dataframe > tbody > tr {\n",
       "  text-align: right;\n",
       "  white-space: pre-wrap;\n",
       "}\n",
       "</style>\n",
       "<small>shape: (14_344, 6)</small><table border=\"1\" class=\"dataframe\"><thead><tr><th>Line</th><th>shape_pt_sequence</th><th>shape_pt_lon</th><th>shape_pt_lat</th><th>Hex color</th><th>stop_name</th></tr><tr><td>str</td><td>i64</td><td>f64</td><td>f64</td><td>str</td><td>str</td></tr></thead><tbody><tr><td>&quot;1&quot;</td><td>0</td><td>-73.898583</td><td>40.889248</td><td>&quot;#EE352E&quot;</td><td>&quot;Van Cortlandt Park-242 St&quot;</td></tr><tr><td>&quot;1&quot;</td><td>1</td><td>-73.899616</td><td>40.887195</td><td>&quot;#EE352E&quot;</td><td>null</td></tr><tr><td>&quot;1&quot;</td><td>2</td><td>-73.900041</td><td>40.886309</td><td>&quot;#EE352E&quot;</td><td>null</td></tr><tr><td>&quot;1&quot;</td><td>3</td><td>-73.90073</td><td>40.884928</td><td>&quot;#EE352E&quot;</td><td>null</td></tr><tr><td>&quot;1&quot;</td><td>4</td><td>-73.90087</td><td>40.884667</td><td>&quot;#EE352E&quot;</td><td>&quot;238 St&quot;</td></tr><tr><td>&hellip;</td><td>&hellip;</td><td>&hellip;</td><td>&hellip;</td><td>&hellip;</td><td>&hellip;</td></tr><tr><td>&quot;S&quot;</td><td>685</td><td>-74.250493</td><td>40.513696</td><td>&quot;#808183&quot;</td><td>null</td></tr><tr><td>&quot;S&quot;</td><td>686</td><td>-74.250706</td><td>40.513579</td><td>&quot;#808183&quot;</td><td>null</td></tr><tr><td>&quot;S&quot;</td><td>687</td><td>-74.250917</td><td>40.513458</td><td>&quot;#808183&quot;</td><td>null</td></tr><tr><td>&quot;S&quot;</td><td>688</td><td>-74.251124</td><td>40.513334</td><td>&quot;#808183&quot;</td><td>null</td></tr><tr><td>&quot;S&quot;</td><td>689</td><td>-74.251961</td><td>40.512764</td><td>&quot;#808183&quot;</td><td>&quot;Tottenville&quot;</td></tr></tbody></table></div>"
      ],
      "text/plain": [
       "shape: (14_344, 6)\n",
       "┌──────┬───────────────────┬──────────────┬──────────────┬───────────┬───────────────────────────┐\n",
       "│ Line ┆ shape_pt_sequence ┆ shape_pt_lon ┆ shape_pt_lat ┆ Hex color ┆ stop_name                 │\n",
       "│ ---  ┆ ---               ┆ ---          ┆ ---          ┆ ---       ┆ ---                       │\n",
       "│ str  ┆ i64               ┆ f64          ┆ f64          ┆ str       ┆ str                       │\n",
       "╞══════╪═══════════════════╪══════════════╪══════════════╪═══════════╪═══════════════════════════╡\n",
       "│ 1    ┆ 0                 ┆ -73.898583   ┆ 40.889248    ┆ #EE352E   ┆ Van Cortlandt Park-242 St │\n",
       "│ 1    ┆ 1                 ┆ -73.899616   ┆ 40.887195    ┆ #EE352E   ┆ null                      │\n",
       "│ 1    ┆ 2                 ┆ -73.900041   ┆ 40.886309    ┆ #EE352E   ┆ null                      │\n",
       "│ 1    ┆ 3                 ┆ -73.90073    ┆ 40.884928    ┆ #EE352E   ┆ null                      │\n",
       "│ 1    ┆ 4                 ┆ -73.90087    ┆ 40.884667    ┆ #EE352E   ┆ 238 St                    │\n",
       "│ …    ┆ …                 ┆ …            ┆ …            ┆ …         ┆ …                         │\n",
       "│ S    ┆ 685               ┆ -74.250493   ┆ 40.513696    ┆ #808183   ┆ null                      │\n",
       "│ S    ┆ 686               ┆ -74.250706   ┆ 40.513579    ┆ #808183   ┆ null                      │\n",
       "│ S    ┆ 687               ┆ -74.250917   ┆ 40.513458    ┆ #808183   ┆ null                      │\n",
       "│ S    ┆ 688               ┆ -74.251124   ┆ 40.513334    ┆ #808183   ┆ null                      │\n",
       "│ S    ┆ 689               ┆ -74.251961   ┆ 40.512764    ┆ #808183   ┆ Tottenville               │\n",
       "└──────┴───────────────────┴──────────────┴──────────────┴───────────┴───────────────────────────┘"
      ]
     },
     "execution_count": 21,
     "metadata": {},
     "output_type": "execute_result"
    }
   ],
   "source": [
    "shapes_final"
   ]
  },
  {
   "cell_type": "code",
   "execution_count": 22,
   "metadata": {},
   "outputs": [],
   "source": [
    "import math\n",
    "\n",
    "\n",
    "def haversine(lat1, lon1, lat2, lon2):\n",
    "    R = 6371  # Earth radius in kilometers\n",
    "    dlat = math.radians(lat2 - lat1)\n",
    "    dlon = math.radians(lon2 - lon1)\n",
    "    a = (\n",
    "        math.sin(dlat / 2) ** 2\n",
    "        + math.cos(math.radians(lat1))\n",
    "        * math.cos(math.radians(lat2))\n",
    "        * math.sin(dlon / 2) ** 2\n",
    "    )\n",
    "    c = 2 * math.atan2(math.sqrt(a), math.sqrt(1 - a))\n",
    "    distance = R * c\n",
    "    return distance"
   ]
  },
  {
   "cell_type": "code",
   "execution_count": 23,
   "metadata": {},
   "outputs": [
    {
     "data": {
      "text/plain": [
       "<xlsxwriter.workbook.Workbook at 0x1427e6810>"
      ]
     },
     "execution_count": 23,
     "metadata": {},
     "output_type": "execute_result"
    }
   ],
   "source": [
    "# Define a function to calculate distance using lead coordinates\n",
    "def calculate_distance_within_line(df):\n",
    "\n",
    "    df = df.sort(\"shape_pt_sequence\")\n",
    "\n",
    "    # Create lead columns for lat and lon\n",
    "    df = df.with_columns(\n",
    "        [\n",
    "            df[\"shape_pt_lat\"].shift(-1).alias(\"lead_lat\"),\n",
    "            df[\"shape_pt_lon\"].shift(-1).alias(\"lead_lon\"),\n",
    "        ]\n",
    "    )\n",
    "\n",
    "    # Apply the Haversine function to each row and add the result as a new column\n",
    "    return df.with_columns(\n",
    "        [\n",
    "            pl.concat_list([\"shape_pt_lat\", \"shape_pt_lon\", \"lead_lat\", \"lead_lon\"])\n",
    "            .map_elements(\n",
    "                lambda row: (\n",
    "                    haversine(row[0], row[1], row[2], row[3])\n",
    "                    if row[2] is not None and row[3] is not None\n",
    "                    else None\n",
    "                ),\n",
    "                return_dtype=pl.Float64,\n",
    "            )\n",
    "            .alias(\"distance\")\n",
    "        ]\n",
    "    )\n",
    "\n",
    "\n",
    "# Group by 'Line', sort each group by 'line_order', and apply the distance calculation\n",
    "result = shapes_final.group_by(\"Line\", maintain_order=True).map_groups(\n",
    "    calculate_distance_within_line\n",
    ")\n",
    "\n",
    "result.write_excel(\"testing.xlsx\")"
   ]
  },
  {
   "cell_type": "code",
   "execution_count": 24,
   "metadata": {},
   "outputs": [
    {
     "data": {
      "text/html": [
       "<div><style>\n",
       ".dataframe > thead > tr,\n",
       ".dataframe > tbody > tr {\n",
       "  text-align: right;\n",
       "  white-space: pre-wrap;\n",
       "}\n",
       "</style>\n",
       "<small>shape: (14_344, 9)</small><table border=\"1\" class=\"dataframe\"><thead><tr><th>Line</th><th>shape_pt_sequence</th><th>shape_pt_lon</th><th>shape_pt_lat</th><th>Hex color</th><th>stop_name</th><th>lead_lat</th><th>lead_lon</th><th>distance</th></tr><tr><td>str</td><td>i64</td><td>f64</td><td>f64</td><td>str</td><td>str</td><td>f64</td><td>f64</td><td>f64</td></tr></thead><tbody><tr><td>&quot;1&quot;</td><td>0</td><td>-73.898583</td><td>40.889248</td><td>&quot;#EE352E&quot;</td><td>&quot;Van Cortlandt Park-242 St&quot;</td><td>40.887195</td><td>-73.899616</td><td>0.244241</td></tr><tr><td>&quot;1&quot;</td><td>1</td><td>-73.899616</td><td>40.887195</td><td>&quot;#EE352E&quot;</td><td>null</td><td>40.886309</td><td>-73.900041</td><td>0.104797</td></tr><tr><td>&quot;1&quot;</td><td>2</td><td>-73.900041</td><td>40.886309</td><td>&quot;#EE352E&quot;</td><td>null</td><td>40.884928</td><td>-73.90073</td><td>0.164121</td></tr><tr><td>&quot;1&quot;</td><td>3</td><td>-73.90073</td><td>40.884928</td><td>&quot;#EE352E&quot;</td><td>null</td><td>40.884667</td><td>-73.90087</td><td>0.031317</td></tr><tr><td>&quot;1&quot;</td><td>4</td><td>-73.90087</td><td>40.884667</td><td>&quot;#EE352E&quot;</td><td>&quot;238 St&quot;</td><td>40.884461</td><td>-73.900991</td><td>0.025063</td></tr><tr><td>&hellip;</td><td>&hellip;</td><td>&hellip;</td><td>&hellip;</td><td>&hellip;</td><td>&hellip;</td><td>&hellip;</td><td>&hellip;</td><td>&hellip;</td></tr><tr><td>&quot;S&quot;</td><td>685</td><td>-74.250493</td><td>40.513696</td><td>&quot;#808183&quot;</td><td>null</td><td>40.513579</td><td>-74.250706</td><td>0.022214</td></tr><tr><td>&quot;S&quot;</td><td>686</td><td>-74.250706</td><td>40.513579</td><td>&quot;#808183&quot;</td><td>null</td><td>40.513458</td><td>-74.250917</td><td>0.022343</td></tr><tr><td>&quot;S&quot;</td><td>687</td><td>-74.250917</td><td>40.513458</td><td>&quot;#808183&quot;</td><td>null</td><td>40.513334</td><td>-74.251124</td><td>0.022278</td></tr><tr><td>&quot;S&quot;</td><td>688</td><td>-74.251124</td><td>40.513334</td><td>&quot;#808183&quot;</td><td>null</td><td>40.512764</td><td>-74.251961</td><td>0.094993</td></tr><tr><td>&quot;S&quot;</td><td>689</td><td>-74.251961</td><td>40.512764</td><td>&quot;#808183&quot;</td><td>&quot;Tottenville&quot;</td><td>null</td><td>null</td><td>null</td></tr></tbody></table></div>"
      ],
      "text/plain": [
       "shape: (14_344, 9)\n",
       "┌──────┬────────────┬────────────┬────────────┬───┬────────────┬───────────┬────────────┬──────────┐\n",
       "│ Line ┆ shape_pt_s ┆ shape_pt_l ┆ shape_pt_l ┆ … ┆ stop_name  ┆ lead_lat  ┆ lead_lon   ┆ distance │\n",
       "│ ---  ┆ equence    ┆ on         ┆ at         ┆   ┆ ---        ┆ ---       ┆ ---        ┆ ---      │\n",
       "│ str  ┆ ---        ┆ ---        ┆ ---        ┆   ┆ str        ┆ f64       ┆ f64        ┆ f64      │\n",
       "│      ┆ i64        ┆ f64        ┆ f64        ┆   ┆            ┆           ┆            ┆          │\n",
       "╞══════╪════════════╪════════════╪════════════╪═══╪════════════╪═══════════╪════════════╪══════════╡\n",
       "│ 1    ┆ 0          ┆ -73.898583 ┆ 40.889248  ┆ … ┆ Van        ┆ 40.887195 ┆ -73.899616 ┆ 0.244241 │\n",
       "│      ┆            ┆            ┆            ┆   ┆ Cortlandt  ┆           ┆            ┆          │\n",
       "│      ┆            ┆            ┆            ┆   ┆ Park-242   ┆           ┆            ┆          │\n",
       "│      ┆            ┆            ┆            ┆   ┆ St         ┆           ┆            ┆          │\n",
       "│ 1    ┆ 1          ┆ -73.899616 ┆ 40.887195  ┆ … ┆ null       ┆ 40.886309 ┆ -73.900041 ┆ 0.104797 │\n",
       "│ 1    ┆ 2          ┆ -73.900041 ┆ 40.886309  ┆ … ┆ null       ┆ 40.884928 ┆ -73.90073  ┆ 0.164121 │\n",
       "│ 1    ┆ 3          ┆ -73.90073  ┆ 40.884928  ┆ … ┆ null       ┆ 40.884667 ┆ -73.90087  ┆ 0.031317 │\n",
       "│ 1    ┆ 4          ┆ -73.90087  ┆ 40.884667  ┆ … ┆ 238 St     ┆ 40.884461 ┆ -73.900991 ┆ 0.025063 │\n",
       "│ …    ┆ …          ┆ …          ┆ …          ┆ … ┆ …          ┆ …         ┆ …          ┆ …        │\n",
       "│ S    ┆ 685        ┆ -74.250493 ┆ 40.513696  ┆ … ┆ null       ┆ 40.513579 ┆ -74.250706 ┆ 0.022214 │\n",
       "│ S    ┆ 686        ┆ -74.250706 ┆ 40.513579  ┆ … ┆ null       ┆ 40.513458 ┆ -74.250917 ┆ 0.022343 │\n",
       "│ S    ┆ 687        ┆ -74.250917 ┆ 40.513458  ┆ … ┆ null       ┆ 40.513334 ┆ -74.251124 ┆ 0.022278 │\n",
       "│ S    ┆ 688        ┆ -74.251124 ┆ 40.513334  ┆ … ┆ null       ┆ 40.512764 ┆ -74.251961 ┆ 0.094993 │\n",
       "│ S    ┆ 689        ┆ -74.251961 ┆ 40.512764  ┆ … ┆ Tottenvill ┆ null      ┆ null       ┆ null     │\n",
       "│      ┆            ┆            ┆            ┆   ┆ e          ┆           ┆            ┆          │\n",
       "└──────┴────────────┴────────────┴────────────┴───┴────────────┴───────────┴────────────┴──────────┘"
      ]
     },
     "execution_count": 24,
     "metadata": {},
     "output_type": "execute_result"
    }
   ],
   "source": [
    "result"
   ]
  },
  {
   "cell_type": "code",
   "execution_count": null,
   "metadata": {},
   "outputs": [],
   "source": [
    "stops_1 = stops.filter(\n",
    "    col(\"stop_id\").map_elements(\n",
    "        lambda x: True if re.search(r\"^1\\d{2}$\", x) else False, return_dtype=pl.Boolean\n",
    "    )\n",
    ")\n",
    "stops_1_ = stops_1.sort(\"stop_id\").to_dicts()\n",
    "stops_1a = (\n",
    "    stops_1.sort(\"stop_id\")\n",
    "    .select([\"stop_name\", \"stop_lat\", \"stop_lon\"])\n",
    "    .to_dict(as_series=False)\n",
    ")"
   ]
  },
  {
   "cell_type": "code",
   "execution_count": null,
   "metadata": {},
   "outputs": [],
   "source": [
    "stops_Q = stops.filter(\n",
    "    col(\"stop_id\").map_elements(\n",
    "        lambda x: True if re.search(r\"^Q\\d{2}$\", x) else False, return_dtype=pl.Boolean\n",
    "    )\n",
    ")\n",
    "stops_Q_ = stops_Q.sort(\"stop_id\").to_dicts()\n",
    "stops_Qa = (\n",
    "    stops_Q.sort(\"stop_id\")\n",
    "    .select([\"stop_name\", \"stop_lat\", \"stop_lon\"])\n",
    "    .to_dict(as_series=False)\n",
    ")"
   ]
  },
  {
   "cell_type": "code",
   "execution_count": null,
   "metadata": {},
   "outputs": [],
   "source": [
    "stops_JJ = shapes.filter(\n",
    "    col(\"shape_id\").map_elements(\n",
    "        lambda x: True if re.search(r\"^1\\.\\.N03R\", x) else False,\n",
    "        return_dtype=pl.Boolean,\n",
    "    )\n",
    ")\n",
    "stops_JJ_ = stops_JJ.sort(\"shape_pt_sequence\", descending=False).to_dicts()\n",
    "stops_JJa = (\n",
    "    stops_JJ.sort(\"shape_pt_sequence\", descending=False)\n",
    "    .select([\"shape_pt_sequence\", \"shape_pt_lat\", \"shape_pt_lon\"])\n",
    "    .to_dict(as_series=False)\n",
    ")"
   ]
  },
  {
   "cell_type": "code",
   "execution_count": null,
   "metadata": {},
   "outputs": [
    {
     "data": {
      "text/plain": [
       "dict_keys(['shape_pt_sequence', 'shape_pt_lat', 'shape_pt_lon'])"
      ]
     },
     "execution_count": 20,
     "metadata": {},
     "output_type": "execute_result"
    }
   ],
   "source": [
    "stops_JJa.keys()"
   ]
  },
  {
   "cell_type": "code",
   "execution_count": null,
   "metadata": {},
   "outputs": [],
   "source": [
    "def add_line_shape(figure: go.Figure, shape_dict: dict) -> None:\n",
    "    figure.add_trace(\n",
    "        go.Scattermapbox(\n",
    "            mode=\"lines\",\n",
    "            name=shape_dict[\"Line\"][0],\n",
    "            lon=shape_dict[\"shape_pt_lon\"],\n",
    "            lat=shape_dict[\"shape_pt_lat\"],\n",
    "            text=shape_dict[\"shape_pt_sequence\"],\n",
    "            marker={\"size\": 10},\n",
    "            line={\"width\": 4, \"color\": shape_dict[\"Hex color\"][0]},\n",
    "            hoverinfo=\"none\",\n",
    "        )\n",
    "    )\n",
    "\n",
    "\n",
    "def add_stops(figure: go.Figure, stops_dict: dict) -> None:\n",
    "    figure.add_trace(\n",
    "        go.Scattermapbox(\n",
    "            mode=\"markers\",\n",
    "            name=stops_dict[\"Line\"][0],\n",
    "            lon=stops_dict[\"stop_lon\"],\n",
    "            lat=stops_dict[\"stop_lat\"],\n",
    "            text=stops_dict[\"stop_name\"],\n",
    "            marker={\"size\": 8, \"color\": stops_dict[\"Hex color\"][0]},\n",
    "            # hoverinfo=stops_dict[\"stop_name\"][0],\n",
    "            showlegend=False,\n",
    "        )\n",
    "    )"
   ]
  },
  {
   "cell_type": "code",
   "execution_count": null,
   "metadata": {},
   "outputs": [
    {
     "ename": "IndexError",
     "evalue": "index 0 is out of bounds for sequence of length 0",
     "output_type": "error",
     "traceback": [
      "\u001b[0;31m---------------------------------------------------------------------------\u001b[0m",
      "\u001b[0;31mIndexError\u001b[0m                                Traceback (most recent call last)",
      "Cell \u001b[0;32mIn[22], line 13\u001b[0m\n\u001b[1;32m      8\u001b[0m \u001b[38;5;28;01mfor\u001b[39;00m line \u001b[38;5;129;01min\u001b[39;00m stops_clean[\u001b[38;5;124m\"\u001b[39m\u001b[38;5;124mLine\u001b[39m\u001b[38;5;124m\"\u001b[39m]\u001b[38;5;241m.\u001b[39munique():\n\u001b[1;32m      9\u001b[0m     d \u001b[38;5;241m=\u001b[39m stops_clean\u001b[38;5;241m.\u001b[39mfilter(\u001b[38;5;124m\"\u001b[39m\u001b[38;5;124mLine\u001b[39m\u001b[38;5;124m\"\u001b[39m \u001b[38;5;241m==\u001b[39m line)\u001b[38;5;241m.\u001b[39mto_dict()\n\u001b[1;32m     10\u001b[0m     fig\u001b[38;5;241m.\u001b[39madd_trace(\n\u001b[1;32m     11\u001b[0m         go\u001b[38;5;241m.\u001b[39mScattermapbox(\n\u001b[1;32m     12\u001b[0m             mode\u001b[38;5;241m=\u001b[39m\u001b[38;5;124m\"\u001b[39m\u001b[38;5;124mmarkers\u001b[39m\u001b[38;5;124m\"\u001b[39m,\n\u001b[0;32m---> 13\u001b[0m             name\u001b[38;5;241m=\u001b[39m\u001b[43md\u001b[49m\u001b[43m[\u001b[49m\u001b[38;5;124;43m\"\u001b[39;49m\u001b[38;5;124;43mLine\u001b[39;49m\u001b[38;5;124;43m\"\u001b[39;49m\u001b[43m]\u001b[49m\u001b[43m[\u001b[49m\u001b[38;5;241;43m0\u001b[39;49m\u001b[43m]\u001b[49m,\n\u001b[1;32m     14\u001b[0m             lon\u001b[38;5;241m=\u001b[39md[\u001b[38;5;124m\"\u001b[39m\u001b[38;5;124mstop_lon\u001b[39m\u001b[38;5;124m\"\u001b[39m],\n\u001b[1;32m     15\u001b[0m             lat\u001b[38;5;241m=\u001b[39md[\u001b[38;5;124m\"\u001b[39m\u001b[38;5;124mstop_lat\u001b[39m\u001b[38;5;124m\"\u001b[39m],\n\u001b[1;32m     16\u001b[0m             text\u001b[38;5;241m=\u001b[39md[\u001b[38;5;124m\"\u001b[39m\u001b[38;5;124mstop_name\u001b[39m\u001b[38;5;124m\"\u001b[39m],\n\u001b[1;32m     17\u001b[0m             marker\u001b[38;5;241m=\u001b[39m{\u001b[38;5;124m\"\u001b[39m\u001b[38;5;124msize\u001b[39m\u001b[38;5;124m\"\u001b[39m: \u001b[38;5;241m8\u001b[39m},\n\u001b[1;32m     18\u001b[0m             line\u001b[38;5;241m=\u001b[39m{\u001b[38;5;124m\"\u001b[39m\u001b[38;5;124mwidth\u001b[39m\u001b[38;5;124m\"\u001b[39m: \u001b[38;5;241m4\u001b[39m, \u001b[38;5;124m\"\u001b[39m\u001b[38;5;124mcolor\u001b[39m\u001b[38;5;124m\"\u001b[39m: \u001b[38;5;124m\"\u001b[39m\u001b[38;5;124m#EE352E\u001b[39m\u001b[38;5;124m\"\u001b[39m},\n\u001b[1;32m     19\u001b[0m         )\n\u001b[1;32m     20\u001b[0m     )\n\u001b[1;32m     22\u001b[0m fig\u001b[38;5;241m.\u001b[39madd_trace(\n\u001b[1;32m     23\u001b[0m     go\u001b[38;5;241m.\u001b[39mScattermapbox(\n\u001b[1;32m     24\u001b[0m         mode\u001b[38;5;241m=\u001b[39m\u001b[38;5;124m\"\u001b[39m\u001b[38;5;124mlines\u001b[39m\u001b[38;5;124m\"\u001b[39m,\n\u001b[0;32m   (...)\u001b[0m\n\u001b[1;32m     30\u001b[0m     )\n\u001b[1;32m     31\u001b[0m )\n\u001b[1;32m     33\u001b[0m \u001b[38;5;66;03m# fig.add_trace(\u001b[39;00m\n\u001b[1;32m     34\u001b[0m \u001b[38;5;66;03m#     go.Scattermapbox(\u001b[39;00m\n\u001b[1;32m     35\u001b[0m \u001b[38;5;66;03m#         mode=\"markers\",\u001b[39;00m\n\u001b[0;32m   (...)\u001b[0m\n\u001b[1;32m     47\u001b[0m \n\u001b[1;32m     48\u001b[0m \u001b[38;5;66;03m# Update the layout\u001b[39;00m\n",
      "File \u001b[0;32m/opt/homebrew/Caskroom/miniconda/base/lib/python3.12/site-packages/polars/series/series.py:1241\u001b[0m, in \u001b[0;36mSeries.__getitem__\u001b[0;34m(self, key)\u001b[0m\n\u001b[1;32m   1237\u001b[0m \u001b[38;5;28;01mdef\u001b[39;00m \u001b[38;5;21m__getitem__\u001b[39m(\n\u001b[1;32m   1238\u001b[0m     \u001b[38;5;28mself\u001b[39m, key: SingleIndexSelector \u001b[38;5;241m|\u001b[39m MultiIndexSelector\n\u001b[1;32m   1239\u001b[0m ) \u001b[38;5;241m-\u001b[39m\u001b[38;5;241m>\u001b[39m Any \u001b[38;5;241m|\u001b[39m Series:\n\u001b[1;32m   1240\u001b[0m \u001b[38;5;250m    \u001b[39m\u001b[38;5;124;03m\"\"\"Get part of the Series as a new Series or scalar.\"\"\"\u001b[39;00m\n\u001b[0;32m-> 1241\u001b[0m     \u001b[38;5;28;01mreturn\u001b[39;00m \u001b[43mget_series_item_by_key\u001b[49m\u001b[43m(\u001b[49m\u001b[38;5;28;43mself\u001b[39;49m\u001b[43m,\u001b[49m\u001b[43m \u001b[49m\u001b[43mkey\u001b[49m\u001b[43m)\u001b[49m\n",
      "File \u001b[0;32m/opt/homebrew/Caskroom/miniconda/base/lib/python3.12/site-packages/polars/_utils/getitem.py:52\u001b[0m, in \u001b[0;36mget_series_item_by_key\u001b[0;34m(s, key)\u001b[0m\n\u001b[1;32m     50\u001b[0m \u001b[38;5;250m\u001b[39m\u001b[38;5;124;03m\"\"\"Select one or more elements from the Series.\"\"\"\u001b[39;00m\n\u001b[1;32m     51\u001b[0m \u001b[38;5;28;01mif\u001b[39;00m \u001b[38;5;28misinstance\u001b[39m(key, \u001b[38;5;28mint\u001b[39m):\n\u001b[0;32m---> 52\u001b[0m     \u001b[38;5;28;01mreturn\u001b[39;00m \u001b[43ms\u001b[49m\u001b[38;5;241;43m.\u001b[39;49m\u001b[43m_s\u001b[49m\u001b[38;5;241;43m.\u001b[39;49m\u001b[43mget_index_signed\u001b[49m\u001b[43m(\u001b[49m\u001b[43mkey\u001b[49m\u001b[43m)\u001b[49m\n\u001b[1;32m     54\u001b[0m \u001b[38;5;28;01melif\u001b[39;00m \u001b[38;5;28misinstance\u001b[39m(key, \u001b[38;5;28mslice\u001b[39m):\n\u001b[1;32m     55\u001b[0m     \u001b[38;5;28;01mreturn\u001b[39;00m _select_elements_by_slice(s, key)\n",
      "\u001b[0;31mIndexError\u001b[0m: index 0 is out of bounds for sequence of length 0"
     ]
    }
   ],
   "source": [
    "# Assuming stops_1a is your DataFrame\n",
    "# For this example, let's recreate a similar DataFrame as your stops_1a\n",
    "\n",
    "# Create the figure\n",
    "fig = go.Figure()\n",
    "\n",
    "# Add the scatter mapbox trace for the lines\n",
    "for line in stops_clean[\"Line\"].unique():\n",
    "    d = stops_clean.filter(\"Line\" == line).to_dict()\n",
    "    fig.add_trace(\n",
    "        go.Scattermapbox(\n",
    "            mode=\"markers\",\n",
    "            name=d[\"Line\"][0],\n",
    "            lon=d[\"stop_lon\"],\n",
    "            lat=d[\"stop_lat\"],\n",
    "            text=d[\"stop_name\"],\n",
    "            marker={\"size\": 8},\n",
    "            line={\"width\": 4, \"color\": \"#EE352E\"},\n",
    "        )\n",
    "    )\n",
    "\n",
    "fig.add_trace(\n",
    "    go.Scattermapbox(\n",
    "        mode=\"lines\",\n",
    "        lon=stops_JJa[\"shape_pt_lon\"],\n",
    "        lat=stops_JJa[\"shape_pt_lat\"],\n",
    "        text=stops_JJa[\"shape_pt_sequence\"],\n",
    "        marker={\"size\": 10},\n",
    "        line={\"width\": 4, \"color\": \"#00933C\"},\n",
    "    )\n",
    ")\n",
    "\n",
    "# fig.add_trace(\n",
    "#     go.Scattermapbox(\n",
    "#         mode=\"markers\",\n",
    "#         lon=[-73.9851],  # Example longitude\n",
    "#         lat=[40.7580],  # Example latitude\n",
    "#         text=[\n",
    "#             \"<b>Times Square</b><br>\"\n",
    "#             \"Location: New York<br>\"\n",
    "#             \"Description: A major commercial intersection, \"\n",
    "#             \"tourist destination, entertainment center, and \"\n",
    "#             \"neighborhood in the Midtown Manhattan section of New York City.\"\n",
    "#         ],  # Popup text with HTML\n",
    "#     )\n",
    "# )\n",
    "\n",
    "# Update the layout\n",
    "fig.update_layout(\n",
    "    mapbox_style=\"carto-positron\",\n",
    "    mapbox_zoom=10,\n",
    "    mapbox_center={\"lat\": 40.75, \"lon\": -73.95},\n",
    "    margin={\"r\": 0, \"t\": 0, \"l\": 0, \"b\": 0},\n",
    ")\n",
    "\n",
    "# fig.add_layout_image(\n",
    "#     dict(\n",
    "#         source=\"https://raw.githubusercontent.com/cldougl/plot_images/add_r_img/vox.png\",\n",
    "#         xref=\"paper\",\n",
    "#         yref=\"paper\",\n",
    "#         x=1,\n",
    "#         y=1.05,\n",
    "#         sizex=0.2,\n",
    "#         sizey=0.2,\n",
    "#         xanchor=\"right\",\n",
    "#         yanchor=\"bottom\",\n",
    "#     )\n",
    "# )\n",
    "\n",
    "# fig.add_layout_image(dict(source=\"Q_train.png\", x=40.75, y=-73.95))\n",
    "\n",
    "# Initialize the Dash app\n",
    "app = dash.Dash(__name__)\n",
    "\n",
    "app.layout = html.Div([dcc.Graph(id=\"live-map\", figure=fig)])\n",
    "\n",
    "if __name__ == \"__main__\":\n",
    "    app.run_server(debug=True)"
   ]
  },
  {
   "cell_type": "code",
   "execution_count": null,
   "metadata": {},
   "outputs": [
    {
     "data": {
      "text/html": [
       "<div><style>\n",
       ".dataframe > thead > tr,\n",
       ".dataframe > tbody > tr {\n",
       "  text-align: right;\n",
       "  white-space: pre-wrap;\n",
       "}\n",
       "</style>\n",
       "<small>shape: (618, 5)</small><table border=\"1\" class=\"dataframe\"><thead><tr><th>Line</th><th>shape_pt_sequence</th><th>shape_pt_lon</th><th>shape_pt_lat</th><th>Hex color</th></tr><tr><td>str</td><td>i64</td><td>f64</td><td>f64</td><td>str</td></tr></thead><tbody><tr><td>&quot;5&quot;</td><td>0</td><td>-73.830834</td><td>40.8883</td><td>&quot;#00933C&quot;</td></tr><tr><td>&quot;5&quot;</td><td>1</td><td>-73.831315</td><td>40.887513</td><td>&quot;#00933C&quot;</td></tr><tr><td>&quot;5&quot;</td><td>2</td><td>-73.83155</td><td>40.887136</td><td>&quot;#00933C&quot;</td></tr><tr><td>&quot;5&quot;</td><td>3</td><td>-73.832289</td><td>40.88611</td><td>&quot;#00933C&quot;</td></tr><tr><td>&quot;5&quot;</td><td>4</td><td>-73.832712</td><td>40.885577</td><td>&quot;#00933C&quot;</td></tr><tr><td>&hellip;</td><td>&hellip;</td><td>&hellip;</td><td>&hellip;</td><td>&hellip;</td></tr><tr><td>&quot;5&quot;</td><td>613</td><td>-73.908946</td><td>40.662549</td><td>&quot;#00933C&quot;</td></tr><tr><td>&quot;5&quot;</td><td>614</td><td>-73.902447</td><td>40.663515</td><td>&quot;#00933C&quot;</td></tr><tr><td>&quot;5&quot;</td><td>615</td><td>-73.894895</td><td>40.664635</td><td>&quot;#00933C&quot;</td></tr><tr><td>&quot;5&quot;</td><td>616</td><td>-73.889395</td><td>40.665449</td><td>&quot;#00933C&quot;</td></tr><tr><td>&quot;5&quot;</td><td>617</td><td>-73.884079</td><td>40.666235</td><td>&quot;#00933C&quot;</td></tr></tbody></table></div>"
      ],
      "text/plain": [
       "shape: (618, 5)\n",
       "┌──────┬───────────────────┬──────────────┬──────────────┬───────────┐\n",
       "│ Line ┆ shape_pt_sequence ┆ shape_pt_lon ┆ shape_pt_lat ┆ Hex color │\n",
       "│ ---  ┆ ---               ┆ ---          ┆ ---          ┆ ---       │\n",
       "│ str  ┆ i64               ┆ f64          ┆ f64          ┆ str       │\n",
       "╞══════╪═══════════════════╪══════════════╪══════════════╪═══════════╡\n",
       "│ 5    ┆ 0                 ┆ -73.830834   ┆ 40.8883      ┆ #00933C   │\n",
       "│ 5    ┆ 1                 ┆ -73.831315   ┆ 40.887513    ┆ #00933C   │\n",
       "│ 5    ┆ 2                 ┆ -73.83155    ┆ 40.887136    ┆ #00933C   │\n",
       "│ 5    ┆ 3                 ┆ -73.832289   ┆ 40.88611     ┆ #00933C   │\n",
       "│ 5    ┆ 4                 ┆ -73.832712   ┆ 40.885577    ┆ #00933C   │\n",
       "│ …    ┆ …                 ┆ …            ┆ …            ┆ …         │\n",
       "│ 5    ┆ 613               ┆ -73.908946   ┆ 40.662549    ┆ #00933C   │\n",
       "│ 5    ┆ 614               ┆ -73.902447   ┆ 40.663515    ┆ #00933C   │\n",
       "│ 5    ┆ 615               ┆ -73.894895   ┆ 40.664635    ┆ #00933C   │\n",
       "│ 5    ┆ 616               ┆ -73.889395   ┆ 40.665449    ┆ #00933C   │\n",
       "│ 5    ┆ 617               ┆ -73.884079   ┆ 40.666235    ┆ #00933C   │\n",
       "└──────┴───────────────────┴──────────────┴──────────────┴───────────┘"
      ]
     },
     "execution_count": 23,
     "metadata": {},
     "output_type": "execute_result"
    }
   ],
   "source": [
    "longest_shapes_final.filter(pl.col(\"Line\") == \"5\")"
   ]
  },
  {
   "cell_type": "code",
   "execution_count": null,
   "metadata": {},
   "outputs": [
    {
     "data": {
      "text/html": [
       "\n",
       "        <iframe\n",
       "            width=\"100%\"\n",
       "            height=\"650\"\n",
       "            src=\"http://127.0.0.1:8050/\"\n",
       "            frameborder=\"0\"\n",
       "            allowfullscreen\n",
       "            \n",
       "        ></iframe>\n",
       "        "
      ],
      "text/plain": [
       "<IPython.lib.display.IFrame at 0x155a6c0b0>"
      ]
     },
     "metadata": {},
     "output_type": "display_data"
    }
   ],
   "source": [
    "new_fig = go.Figure()\n",
    "\n",
    "for line in sorted(longest_shapes_final[\"Line\"].unique()):\n",
    "    line_shape = (\n",
    "        longest_shapes_final.filter(pl.col(\"Line\") == line)\n",
    "        .sort(\"shape_pt_sequence\")\n",
    "        .to_dict(as_series=False)\n",
    "    )\n",
    "    stops = stops_clean.filter(pl.col(\"Line\") == line).to_dict(as_series=False)\n",
    "\n",
    "    add_line_shape(new_fig, line_shape)\n",
    "    try:\n",
    "        add_stops(new_fig, stops)\n",
    "    except IndexError:\n",
    "        continue\n",
    "\n",
    "new_fig.update_layout(\n",
    "    mapbox_style=\"carto-positron\",\n",
    "    mapbox_zoom=10,\n",
    "    mapbox_center={\"lat\": 40.75, \"lon\": -73.95},\n",
    "    margin={\"r\": 0, \"t\": 0, \"l\": 0, \"b\": 0},\n",
    ")\n",
    "new_fig.write_html(\"subway_map_plot.html\")\n",
    "\n",
    "with open(\"map_plot.json\", \"w\") as f:\n",
    "    json.dump(new_fig.to_plotly_json(), f)\n",
    "\n",
    "app = dash.Dash(__name__)\n",
    "\n",
    "app.layout = html.Div([dcc.Graph(id=\"live-map\", figure=new_fig)])\n",
    "\n",
    "if __name__ == \"__main__\":\n",
    "    app.run_server(debug=True)"
   ]
  },
  {
   "cell_type": "code",
   "execution_count": null,
   "metadata": {},
   "outputs": [
    {
     "data": {
      "text/html": [
       "<div><style>\n",
       ".dataframe > thead > tr,\n",
       ".dataframe > tbody > tr {\n",
       "  text-align: right;\n",
       "  white-space: pre-wrap;\n",
       "}\n",
       "</style>\n",
       "<small>shape: (682, 2)</small><table border=\"1\" class=\"dataframe\"><thead><tr><th>shape_pt_lat</th><th>count</th></tr><tr><td>f64</td><td>u32</td></tr></thead><tbody><tr><td>40.665449</td><td>5</td></tr><tr><td>40.667449</td><td>5</td></tr><tr><td>40.668271</td><td>5</td></tr><tr><td>40.667552</td><td>5</td></tr><tr><td>40.667735</td><td>5</td></tr><tr><td>&hellip;</td><td>&hellip;</td></tr><tr><td>40.73069</td><td>49</td></tr><tr><td>40.841894</td><td>52</td></tr><tr><td>40.816109</td><td>96</td></tr><tr><td>40.815931</td><td>96</td></tr><tr><td>40.816201</td><td>96</td></tr></tbody></table></div>"
      ],
      "text/plain": [
       "shape: (682, 2)\n",
       "┌──────────────┬───────┐\n",
       "│ shape_pt_lat ┆ count │\n",
       "│ ---          ┆ ---   │\n",
       "│ f64          ┆ u32   │\n",
       "╞══════════════╪═══════╡\n",
       "│ 40.665449    ┆ 5     │\n",
       "│ 40.667449    ┆ 5     │\n",
       "│ 40.668271    ┆ 5     │\n",
       "│ 40.667552    ┆ 5     │\n",
       "│ 40.667735    ┆ 5     │\n",
       "│ …            ┆ …     │\n",
       "│ 40.73069     ┆ 49    │\n",
       "│ 40.841894    ┆ 52    │\n",
       "│ 40.816109    ┆ 96    │\n",
       "│ 40.815931    ┆ 96    │\n",
       "│ 40.816201    ┆ 96    │\n",
       "└──────────────┴───────┘"
      ]
     },
     "execution_count": 75,
     "metadata": {},
     "output_type": "execute_result"
    }
   ],
   "source": [
    "shapes_clean.filter(pl.col(\"Line\") == \"5\")[\"shape_pt_lat\"].value_counts().sort(\"count\")"
   ]
  },
  {
   "cell_type": "code",
   "execution_count": null,
   "metadata": {},
   "outputs": [],
   "source": []
  }
 ],
 "metadata": {
  "kernelspec": {
   "display_name": "base",
   "language": "python",
   "name": "python3"
  },
  "language_info": {
   "codemirror_mode": {
    "name": "ipython",
    "version": 3
   },
   "file_extension": ".py",
   "mimetype": "text/x-python",
   "name": "python",
   "nbconvert_exporter": "python",
   "pygments_lexer": "ipython3",
   "version": "3.12.2"
  }
 },
 "nbformat": 4,
 "nbformat_minor": 2
}
