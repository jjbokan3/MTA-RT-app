{
 "cells": [
  {
   "cell_type": "code",
   "execution_count": 46,
   "metadata": {},
   "outputs": [],
   "source": [
    "import requests\n",
    "import gtfs_realtime_NYCT_pb2\n",
    "import gtfs_realtime_pb2\n",
    "import polars as pl\n",
    "from polars import col\n",
    "import re\n",
    "from PIL import Image\n",
    "import dash\n",
    "from dash import dcc, html\n",
    "from dash.dependencies import Input, Output\n",
    "import plotly.graph_objects as go\n",
    "import pandas as pd\n",
    "from PIL import Image"
   ]
  },
  {
   "cell_type": "code",
   "execution_count": 2,
   "metadata": {},
   "outputs": [],
   "source": [
    "response = requests.get(\n",
    "    \"https://api-endpoint.mta.info/Dataservice/mtagtfsfeeds/nyct%2Fgtfs-bdfm\"\n",
    ")"
   ]
  },
  {
   "cell_type": "code",
   "execution_count": 3,
   "metadata": {},
   "outputs": [],
   "source": [
    "feed = gtfs_realtime_pb2.FeedMessage()"
   ]
  },
  {
   "cell_type": "code",
   "execution_count": 4,
   "metadata": {},
   "outputs": [
    {
     "data": {
      "text/plain": [
       "69206"
      ]
     },
     "execution_count": 4,
     "metadata": {},
     "output_type": "execute_result"
    }
   ],
   "source": [
    "feed.ParseFromString(response.content)"
   ]
  },
  {
   "cell_type": "code",
   "execution_count": 35,
   "metadata": {},
   "outputs": [],
   "source": [
    "stops = pl.read_csv(\n",
    "    \"stops.txt\",\n",
    "    separator=\",\",\n",
    "    has_header=True,\n",
    "    schema_overrides={\"parent_station\": str},\n",
    ")\n",
    "\n",
    "shapes = pl.read_csv(\n",
    "    \"shapes.txt\",\n",
    "    separator=\",\",\n",
    "    has_header=True,\n",
    ")\n",
    "\n",
    "colors = pl.read_csv(\"MTA_Colors_20240623.csv\", separator=\",\", has_header=True)"
   ]
  },
  {
   "cell_type": "code",
   "execution_count": 36,
   "metadata": {},
   "outputs": [],
   "source": [
    "colors = colors.filter(col(\"Operator\") == \"New York City Subway\")\n",
    "colors = colors.with_columns(\n",
    "    col(\"Service\").str.split(\",\")\n",
    ")  # Split the comma-delimited values into lists\n",
    "colors = colors.explode(\"Service\")  # Explode the lists into separate rows"
   ]
  },
  {
   "cell_type": "code",
   "execution_count": 37,
   "metadata": {},
   "outputs": [],
   "source": [
    "shape_unpack_re = re.compile(r\"^(\\w{1}).*\\.+(\\w+)$\")\n",
    "\n",
    "\n",
    "def shape_unpack(shape):\n",
    "    m = re.match(shape_unpack_re, shape)\n",
    "    return m.group(1), m.group(2)"
   ]
  },
  {
   "cell_type": "code",
   "execution_count": 43,
   "metadata": {},
   "outputs": [],
   "source": [
    "shapes_clean = shapes.with_columns(\n",
    "    [\n",
    "        shapes[\"shape_id\"]\n",
    "        .map_elements(lambda x: shape_unpack(x)[0], return_dtype=str)\n",
    "        .alias(\"Line\"),\n",
    "        shapes[\"shape_id\"]\n",
    "        .map_elements(lambda x: shape_unpack(x)[1], return_dtype=str)\n",
    "        .alias(\"Line_Variation\"),\n",
    "    ]\n",
    ")"
   ]
  },
  {
   "cell_type": "code",
   "execution_count": 44,
   "metadata": {},
   "outputs": [
    {
     "data": {
      "text/plain": [
       "'1..N03R'"
      ]
     },
     "execution_count": 44,
     "metadata": {},
     "output_type": "execute_result"
    }
   ],
   "source": [
    "min([\"1..N03R\", \"1..N13R\"])"
   ]
  },
  {
   "cell_type": "code",
   "execution_count": 54,
   "metadata": {},
   "outputs": [
    {
     "data": {
      "text/plain": [
       "<xlsxwriter.workbook.Workbook at 0x117b8b320>"
      ]
     },
     "execution_count": 54,
     "metadata": {},
     "output_type": "execute_result"
    }
   ],
   "source": [
    "shapes_clean.filter(col(\"shape_pt_sequence\") == 0)[\n",
    "    [\"Line\", \"shape_pt_lat\", \"shape_pt_lon\"]\n",
    "].write_excel(\"test.xlsx\")"
   ]
  },
  {
   "cell_type": "code",
   "execution_count": 45,
   "metadata": {},
   "outputs": [
    {
     "data": {
      "text/html": [
       "<div><style>\n",
       ".dataframe > thead > tr,\n",
       ".dataframe > tbody > tr {\n",
       "  text-align: right;\n",
       "  white-space: pre-wrap;\n",
       "}\n",
       "</style>\n",
       "<small>shape: (22, 2)</small><table border=\"1\" class=\"dataframe\"><thead><tr><th>Line</th><th>Line_Variation</th></tr><tr><td>str</td><td>str</td></tr></thead><tbody><tr><td>&quot;J&quot;</td><td>&quot;N12R&quot;</td></tr><tr><td>&quot;R&quot;</td><td>&quot;N27R&quot;</td></tr><tr><td>&quot;E&quot;</td><td>&quot;N05R&quot;</td></tr><tr><td>&quot;3&quot;</td><td>&quot;N01R&quot;</td></tr><tr><td>&quot;H&quot;</td><td>&quot;N21R&quot;</td></tr><tr><td>&hellip;</td><td>&hellip;</td></tr><tr><td>&quot;7&quot;</td><td>&quot;N95R&quot;</td></tr><tr><td>&quot;5&quot;</td><td>&quot;N01R&quot;</td></tr><tr><td>&quot;F&quot;</td><td>&quot;N01R&quot;</td></tr><tr><td>&quot;6&quot;</td><td>&quot;N01R&quot;</td></tr><tr><td>&quot;1&quot;</td><td>&quot;N03R&quot;</td></tr></tbody></table></div>"
      ],
      "text/plain": [
       "shape: (22, 2)\n",
       "┌──────┬────────────────┐\n",
       "│ Line ┆ Line_Variation │\n",
       "│ ---  ┆ ---            │\n",
       "│ str  ┆ str            │\n",
       "╞══════╪════════════════╡\n",
       "│ J    ┆ N12R           │\n",
       "│ R    ┆ N27R           │\n",
       "│ E    ┆ N05R           │\n",
       "│ 3    ┆ N01R           │\n",
       "│ H    ┆ N21R           │\n",
       "│ …    ┆ …              │\n",
       "│ 7    ┆ N95R           │\n",
       "│ 5    ┆ N01R           │\n",
       "│ F    ┆ N01R           │\n",
       "│ 6    ┆ N01R           │\n",
       "│ 1    ┆ N03R           │\n",
       "└──────┴────────────────┘"
      ]
     },
     "execution_count": 45,
     "metadata": {},
     "output_type": "execute_result"
    }
   ],
   "source": [
    "shapes_clean[[\"Line\", \"Line_Variation\"]].group_by(\"Line\").min().filter(col(\"F\"))"
   ]
  },
  {
   "cell_type": "code",
   "execution_count": 28,
   "metadata": {},
   "outputs": [],
   "source": [
    "shapes = shapes.with_columns(\n",
    "    col(\"shape_id\").map_elements(lambda x: x[0], return_dtype=str).alias(\"Line\")\n",
    ")\n",
    "\n",
    "line_points = shapes[\n",
    "    [\"Line\", \"shape_pt_sequence\", \"shape_pt_lat\", \"shape_pt_lon\"]\n",
    "].unique()"
   ]
  },
  {
   "cell_type": "code",
   "execution_count": 29,
   "metadata": {},
   "outputs": [
    {
     "data": {
      "text/html": [
       "<div><style>\n",
       ".dataframe > thead > tr,\n",
       ".dataframe > tbody > tr {\n",
       "  text-align: right;\n",
       "  white-space: pre-wrap;\n",
       "}\n",
       "</style>\n",
       "<small>shape: (63_486, 4)</small><table border=\"1\" class=\"dataframe\"><thead><tr><th>Line</th><th>shape_pt_sequence</th><th>shape_pt_lat</th><th>shape_pt_lon</th></tr><tr><td>str</td><td>i64</td><td>f64</td><td>f64</td></tr></thead><tbody><tr><td>&quot;A&quot;</td><td>144</td><td>40.81139</td><td>-73.952117</td></tr><tr><td>&quot;S&quot;</td><td>604</td><td>40.633373</td><td>-74.074314</td></tr><tr><td>&quot;6&quot;</td><td>532</td><td>40.715744</td><td>-74.002925</td></tr><tr><td>&quot;R&quot;</td><td>788</td><td>40.685024</td><td>-73.978003</td></tr><tr><td>&quot;A&quot;</td><td>581</td><td>40.690701</td><td>-73.987738</td></tr><tr><td>&hellip;</td><td>&hellip;</td><td>&hellip;</td><td>&hellip;</td></tr><tr><td>&quot;A&quot;</td><td>895</td><td>40.608717</td><td>-73.816038</td></tr><tr><td>&quot;A&quot;</td><td>1071</td><td>40.598699</td><td>-73.762698</td></tr><tr><td>&quot;5&quot;</td><td>361</td><td>40.664189</td><td>-73.950989</td></tr><tr><td>&quot;A&quot;</td><td>822</td><td>40.58956</td><td>-73.810594</td></tr><tr><td>&quot;N&quot;</td><td>468</td><td>40.587663</td><td>-73.978812</td></tr></tbody></table></div>"
      ],
      "text/plain": [
       "shape: (63_486, 4)\n",
       "┌──────┬───────────────────┬──────────────┬──────────────┐\n",
       "│ Line ┆ shape_pt_sequence ┆ shape_pt_lat ┆ shape_pt_lon │\n",
       "│ ---  ┆ ---               ┆ ---          ┆ ---          │\n",
       "│ str  ┆ i64               ┆ f64          ┆ f64          │\n",
       "╞══════╪═══════════════════╪══════════════╪══════════════╡\n",
       "│ A    ┆ 144               ┆ 40.81139     ┆ -73.952117   │\n",
       "│ S    ┆ 604               ┆ 40.633373    ┆ -74.074314   │\n",
       "│ 6    ┆ 532               ┆ 40.715744    ┆ -74.002925   │\n",
       "│ R    ┆ 788               ┆ 40.685024    ┆ -73.978003   │\n",
       "│ A    ┆ 581               ┆ 40.690701    ┆ -73.987738   │\n",
       "│ …    ┆ …                 ┆ …            ┆ …            │\n",
       "│ A    ┆ 895               ┆ 40.608717    ┆ -73.816038   │\n",
       "│ A    ┆ 1071              ┆ 40.598699    ┆ -73.762698   │\n",
       "│ 5    ┆ 361               ┆ 40.664189    ┆ -73.950989   │\n",
       "│ A    ┆ 822               ┆ 40.58956     ┆ -73.810594   │\n",
       "│ N    ┆ 468               ┆ 40.587663    ┆ -73.978812   │\n",
       "└──────┴───────────────────┴──────────────┴──────────────┘"
      ]
     },
     "execution_count": 29,
     "metadata": {},
     "output_type": "execute_result"
    }
   ],
   "source": [
    "line_points"
   ]
  },
  {
   "cell_type": "code",
   "execution_count": 17,
   "metadata": {},
   "outputs": [],
   "source": [
    "stop_unpack_re = re.compile(r\"^(\\w{1})(\\d{2})\")\n",
    "\n",
    "\n",
    "def stop_unpack(stop):\n",
    "    m = re.match(stop_unpack_re, stop)\n",
    "    return m.group(1), m.group(2)"
   ]
  },
  {
   "cell_type": "code",
   "execution_count": 11,
   "metadata": {},
   "outputs": [
    {
     "name": "stderr",
     "output_type": "stream",
     "text": [
      "thread '<unnamed>' panicked at py-polars/src/map/series.rs:222:19:\n",
      "python function failed NameError: name 'stop_unpack' is not defined\n",
      "note: run with `RUST_BACKTRACE=1` environment variable to display a backtrace\n"
     ]
    },
    {
     "ename": "PanicException",
     "evalue": "python function failed NameError: name 'stop_unpack' is not defined",
     "output_type": "error",
     "traceback": [
      "\u001b[0;31m---------------------------------------------------------------------------\u001b[0m",
      "\u001b[0;31mPanicException\u001b[0m                            Traceback (most recent call last)",
      "Cell \u001b[0;32mIn[11], line 4\u001b[0m\n\u001b[1;32m      1\u001b[0m stops_clean \u001b[38;5;241m=\u001b[39m stops[[\u001b[38;5;124m\"\u001b[39m\u001b[38;5;124mstop_id\u001b[39m\u001b[38;5;124m\"\u001b[39m, \u001b[38;5;124m\"\u001b[39m\u001b[38;5;124mstop_name\u001b[39m\u001b[38;5;124m\"\u001b[39m, \u001b[38;5;124m\"\u001b[39m\u001b[38;5;124mstop_lat\u001b[39m\u001b[38;5;124m\"\u001b[39m, \u001b[38;5;124m\"\u001b[39m\u001b[38;5;124mstop_lon\u001b[39m\u001b[38;5;124m\"\u001b[39m]]\u001b[38;5;241m.\u001b[39mwith_columns(\n\u001b[1;32m      2\u001b[0m     [\n\u001b[1;32m      3\u001b[0m         \u001b[43mstops\u001b[49m\u001b[43m[\u001b[49m\u001b[38;5;124;43m\"\u001b[39;49m\u001b[38;5;124;43mstop_id\u001b[39;49m\u001b[38;5;124;43m\"\u001b[39;49m\u001b[43m]\u001b[49m\n\u001b[0;32m----> 4\u001b[0m \u001b[43m        \u001b[49m\u001b[38;5;241;43m.\u001b[39;49m\u001b[43mmap_elements\u001b[49m\u001b[43m(\u001b[49m\u001b[38;5;28;43;01mlambda\u001b[39;49;00m\u001b[43m \u001b[49m\u001b[43mx\u001b[49m\u001b[43m:\u001b[49m\u001b[43m \u001b[49m\u001b[43mstop_unpack\u001b[49m\u001b[43m(\u001b[49m\u001b[43mx\u001b[49m\u001b[43m)\u001b[49m\u001b[43m[\u001b[49m\u001b[38;5;241;43m0\u001b[39;49m\u001b[43m]\u001b[49m\u001b[43m,\u001b[49m\u001b[43m \u001b[49m\u001b[43mreturn_dtype\u001b[49m\u001b[38;5;241;43m=\u001b[39;49m\u001b[38;5;28;43mstr\u001b[39;49m\u001b[43m)\u001b[49m\n\u001b[1;32m      5\u001b[0m         \u001b[38;5;241m.\u001b[39malias(\u001b[38;5;124m\"\u001b[39m\u001b[38;5;124mLine\u001b[39m\u001b[38;5;124m\"\u001b[39m),\n\u001b[1;32m      6\u001b[0m         stops[\u001b[38;5;124m\"\u001b[39m\u001b[38;5;124mstop_id\u001b[39m\u001b[38;5;124m\"\u001b[39m]\n\u001b[1;32m      7\u001b[0m         \u001b[38;5;241m.\u001b[39mmap_elements(\u001b[38;5;28;01mlambda\u001b[39;00m x: stop_unpack(x)[\u001b[38;5;241m1\u001b[39m], return_dtype\u001b[38;5;241m=\u001b[39m\u001b[38;5;28mstr\u001b[39m)\n\u001b[1;32m      8\u001b[0m         \u001b[38;5;241m.\u001b[39malias(\u001b[38;5;124m\"\u001b[39m\u001b[38;5;124mOrder\u001b[39m\u001b[38;5;124m\"\u001b[39m),\n\u001b[1;32m      9\u001b[0m     ]\n\u001b[1;32m     10\u001b[0m )\n\u001b[1;32m     11\u001b[0m stops_clean \u001b[38;5;241m=\u001b[39m stops_clean\u001b[38;5;241m.\u001b[39mjoin(\n\u001b[1;32m     12\u001b[0m     line_points, left_on\u001b[38;5;241m=\u001b[39m\u001b[38;5;124m\"\u001b[39m\u001b[38;5;124mLine\u001b[39m\u001b[38;5;124m\"\u001b[39m, right_on\u001b[38;5;241m=\u001b[39m\u001b[38;5;124m\"\u001b[39m\u001b[38;5;124mService\u001b[39m\u001b[38;5;124m\"\u001b[39m, how\u001b[38;5;241m=\u001b[39m\u001b[38;5;124m\"\u001b[39m\u001b[38;5;124mleft\u001b[39m\u001b[38;5;124m\"\u001b[39m\n\u001b[1;32m     13\u001b[0m )\n",
      "File \u001b[0;32m/opt/homebrew/Caskroom/miniconda/base/lib/python3.12/site-packages/polars/series/series.py:5519\u001b[0m, in \u001b[0;36mSeries.map_elements\u001b[0;34m(self, function, return_dtype, skip_nulls)\u001b[0m\n\u001b[1;32m   5515\u001b[0m     pl_return_dtype \u001b[38;5;241m=\u001b[39m py_type_to_dtype(return_dtype)\n\u001b[1;32m   5517\u001b[0m warn_on_inefficient_map(function, columns\u001b[38;5;241m=\u001b[39m[\u001b[38;5;28mself\u001b[39m\u001b[38;5;241m.\u001b[39mname], map_target\u001b[38;5;241m=\u001b[39m\u001b[38;5;124m\"\u001b[39m\u001b[38;5;124mseries\u001b[39m\u001b[38;5;124m\"\u001b[39m)\n\u001b[1;32m   5518\u001b[0m \u001b[38;5;28;01mreturn\u001b[39;00m \u001b[38;5;28mself\u001b[39m\u001b[38;5;241m.\u001b[39m_from_pyseries(\n\u001b[0;32m-> 5519\u001b[0m     \u001b[38;5;28;43mself\u001b[39;49m\u001b[38;5;241;43m.\u001b[39;49m\u001b[43m_s\u001b[49m\u001b[38;5;241;43m.\u001b[39;49m\u001b[43mapply_lambda\u001b[49m\u001b[43m(\u001b[49m\u001b[43mfunction\u001b[49m\u001b[43m,\u001b[49m\u001b[43m \u001b[49m\u001b[43mpl_return_dtype\u001b[49m\u001b[43m,\u001b[49m\u001b[43m \u001b[49m\u001b[43mskip_nulls\u001b[49m\u001b[43m)\u001b[49m\n\u001b[1;32m   5520\u001b[0m )\n",
      "\u001b[0;31mPanicException\u001b[0m: python function failed NameError: name 'stop_unpack' is not defined"
     ]
    }
   ],
   "source": [
    "stops_clean = stops[[\"stop_id\", \"stop_name\", \"stop_lat\", \"stop_lon\"]].with_columns(\n",
    "    [\n",
    "        stops[\"stop_id\"]\n",
    "        .map_elements(lambda x: stop_unpack(x)[0], return_dtype=str)\n",
    "        .alias(\"Line\"),\n",
    "        stops[\"stop_id\"]\n",
    "        .map_elements(lambda x: stop_unpack(x)[1], return_dtype=str)\n",
    "        .alias(\"Order\"),\n",
    "    ]\n",
    ")\n",
    "stops_clean = stops_clean.join(\n",
    "    line_points, left_on=\"Line\", right_on=\"Service\", how=\"left\"\n",
    ")"
   ]
  },
  {
   "cell_type": "code",
   "execution_count": 16,
   "metadata": {},
   "outputs": [
    {
     "data": {
      "text/html": [
       "<div><style>\n",
       ".dataframe > thead > tr,\n",
       ".dataframe > tbody > tr {\n",
       "  text-align: right;\n",
       "  white-space: pre-wrap;\n",
       "}\n",
       "</style>\n",
       "<small>shape: (1_497, 6)</small><table border=\"1\" class=\"dataframe\"><thead><tr><th>stop_id</th><th>stop_name</th><th>stop_lat</th><th>stop_lon</th><th>Line</th><th>Order</th></tr><tr><td>str</td><td>str</td><td>f64</td><td>f64</td><td>str</td><td>str</td></tr></thead><tbody><tr><td>&quot;101&quot;</td><td>&quot;Van Cortlandt Park-242 St&quot;</td><td>40.889248</td><td>-73.898583</td><td>&quot;1&quot;</td><td>&quot;01&quot;</td></tr><tr><td>&quot;101N&quot;</td><td>&quot;Van Cortlandt Park-242 St&quot;</td><td>40.889248</td><td>-73.898583</td><td>&quot;1&quot;</td><td>&quot;01&quot;</td></tr><tr><td>&quot;101S&quot;</td><td>&quot;Van Cortlandt Park-242 St&quot;</td><td>40.889248</td><td>-73.898583</td><td>&quot;1&quot;</td><td>&quot;01&quot;</td></tr><tr><td>&quot;103&quot;</td><td>&quot;238 St&quot;</td><td>40.884667</td><td>-73.90087</td><td>&quot;1&quot;</td><td>&quot;03&quot;</td></tr><tr><td>&quot;103N&quot;</td><td>&quot;238 St&quot;</td><td>40.884667</td><td>-73.90087</td><td>&quot;1&quot;</td><td>&quot;03&quot;</td></tr><tr><td>&hellip;</td><td>&hellip;</td><td>&hellip;</td><td>&hellip;</td><td>&hellip;</td><td>&hellip;</td></tr><tr><td>&quot;S30N&quot;</td><td>&quot;Tompkinsville&quot;</td><td>40.636949</td><td>-74.074835</td><td>&quot;S&quot;</td><td>&quot;30&quot;</td></tr><tr><td>&quot;S30S&quot;</td><td>&quot;Tompkinsville&quot;</td><td>40.636949</td><td>-74.074835</td><td>&quot;S&quot;</td><td>&quot;30&quot;</td></tr><tr><td>&quot;S31&quot;</td><td>&quot;St George&quot;</td><td>40.643748</td><td>-74.073643</td><td>&quot;S&quot;</td><td>&quot;31&quot;</td></tr><tr><td>&quot;S31N&quot;</td><td>&quot;St George&quot;</td><td>40.643748</td><td>-74.073643</td><td>&quot;S&quot;</td><td>&quot;31&quot;</td></tr><tr><td>&quot;S31S&quot;</td><td>&quot;St George&quot;</td><td>40.643748</td><td>-74.073643</td><td>&quot;S&quot;</td><td>&quot;31&quot;</td></tr></tbody></table></div>"
      ],
      "text/plain": [
       "shape: (1_497, 6)\n",
       "┌─────────┬───────────────────────────┬───────────┬────────────┬──────┬───────┐\n",
       "│ stop_id ┆ stop_name                 ┆ stop_lat  ┆ stop_lon   ┆ Line ┆ Order │\n",
       "│ ---     ┆ ---                       ┆ ---       ┆ ---        ┆ ---  ┆ ---   │\n",
       "│ str     ┆ str                       ┆ f64       ┆ f64        ┆ str  ┆ str   │\n",
       "╞═════════╪═══════════════════════════╪═══════════╪════════════╪══════╪═══════╡\n",
       "│ 101     ┆ Van Cortlandt Park-242 St ┆ 40.889248 ┆ -73.898583 ┆ 1    ┆ 01    │\n",
       "│ 101N    ┆ Van Cortlandt Park-242 St ┆ 40.889248 ┆ -73.898583 ┆ 1    ┆ 01    │\n",
       "│ 101S    ┆ Van Cortlandt Park-242 St ┆ 40.889248 ┆ -73.898583 ┆ 1    ┆ 01    │\n",
       "│ 103     ┆ 238 St                    ┆ 40.884667 ┆ -73.90087  ┆ 1    ┆ 03    │\n",
       "│ 103N    ┆ 238 St                    ┆ 40.884667 ┆ -73.90087  ┆ 1    ┆ 03    │\n",
       "│ …       ┆ …                         ┆ …         ┆ …          ┆ …    ┆ …     │\n",
       "│ S30N    ┆ Tompkinsville             ┆ 40.636949 ┆ -74.074835 ┆ S    ┆ 30    │\n",
       "│ S30S    ┆ Tompkinsville             ┆ 40.636949 ┆ -74.074835 ┆ S    ┆ 30    │\n",
       "│ S31     ┆ St George                 ┆ 40.643748 ┆ -74.073643 ┆ S    ┆ 31    │\n",
       "│ S31N    ┆ St George                 ┆ 40.643748 ┆ -74.073643 ┆ S    ┆ 31    │\n",
       "│ S31S    ┆ St George                 ┆ 40.643748 ┆ -74.073643 ┆ S    ┆ 31    │\n",
       "└─────────┴───────────────────────────┴───────────┴────────────┴──────┴───────┘"
      ]
     },
     "execution_count": 16,
     "metadata": {},
     "output_type": "execute_result"
    }
   ],
   "source": [
    "stops_clean"
   ]
  },
  {
   "cell_type": "code",
   "execution_count": 9,
   "metadata": {},
   "outputs": [],
   "source": [
    "stops_1 = stops.filter(\n",
    "    col(\"stop_id\").map_elements(\n",
    "        lambda x: True if re.search(r\"^1\\d{2}$\", x) else False, return_dtype=pl.Boolean\n",
    "    )\n",
    ")\n",
    "stops_1_ = stops_1.sort(\"stop_id\").to_dicts()\n",
    "stops_1a = (\n",
    "    stops_1.sort(\"stop_id\")\n",
    "    .select([\"stop_name\", \"stop_lat\", \"stop_lon\"])\n",
    "    .to_dict(as_series=False)\n",
    ")"
   ]
  },
  {
   "cell_type": "code",
   "execution_count": 10,
   "metadata": {},
   "outputs": [],
   "source": [
    "stops_Q = stops.filter(\n",
    "    col(\"stop_id\").map_elements(\n",
    "        lambda x: True if re.search(r\"^Q\\d{2}$\", x) else False, return_dtype=pl.Boolean\n",
    "    )\n",
    ")\n",
    "stops_Q_ = stops_Q.sort(\"stop_id\").to_dicts()\n",
    "stops_Qa = (\n",
    "    stops_Q.sort(\"stop_id\")\n",
    "    .select([\"stop_name\", \"stop_lat\", \"stop_lon\"])\n",
    "    .to_dict(as_series=False)\n",
    ")"
   ]
  },
  {
   "cell_type": "code",
   "execution_count": 11,
   "metadata": {},
   "outputs": [],
   "source": [
    "stops_JJ = shapes.filter(\n",
    "    col(\"shape_id\").map_elements(\n",
    "        lambda x: True if re.search(r\"^1\\.\\.N03R\", x) else False,\n",
    "        return_dtype=pl.Boolean,\n",
    "    )\n",
    ")\n",
    "stops_JJ_ = stops_JJ.sort(\"shape_pt_sequence\", descending=False).to_dicts()\n",
    "stops_JJa = (\n",
    "    stops_JJ.sort(\"shape_pt_sequence\", descending=False)\n",
    "    .select([\"shape_pt_sequence\", \"shape_pt_lat\", \"shape_pt_lon\"])\n",
    "    .to_dict(as_series=False)\n",
    ")"
   ]
  },
  {
   "cell_type": "code",
   "execution_count": 17,
   "metadata": {},
   "outputs": [
    {
     "data": {
      "text/html": [
       "\n",
       "        <iframe\n",
       "            width=\"100%\"\n",
       "            height=\"650\"\n",
       "            src=\"http://127.0.0.1:8050/\"\n",
       "            frameborder=\"0\"\n",
       "            allowfullscreen\n",
       "            \n",
       "        ></iframe>\n",
       "        "
      ],
      "text/plain": [
       "<IPython.lib.display.IFrame at 0x126e43d10>"
      ]
     },
     "metadata": {},
     "output_type": "display_data"
    }
   ],
   "source": [
    "# Assuming stops_1a is your DataFrame\n",
    "# For this example, let's recreate a similar DataFrame as your stops_1a\n",
    "\n",
    "# Create the figure\n",
    "fig = go.Figure()\n",
    "\n",
    "# Add the scatter mapbox trace for the lines\n",
    "for line in stops_clean['Line'].unique():\n",
    "    d = stops_clean.filter('Line' == line).to_dict()\n",
    "    fig.add_trace(\n",
    "        go.Scattermapbox(\n",
    "            mode=\"markers\",\n",
    "            lon=d[\"stop_lon\"],\n",
    "            lat=d[\"stop_lat\"],\n",
    "            text=d[\"stop_name\"],\n",
    "            marker={\"size\": 10},\n",
    "            line={\"width\": 4, \"color\": \"#EE352E\"},\n",
    "        )\n",
    "    )\n",
    "\n",
    "fig.add_trace(\n",
    "    go.Scattermapbox(\n",
    "        mode=\"lines\",\n",
    "        lon=stops_JJa[\"shape_pt_lon\"],\n",
    "        lat=stops_JJa[\"shape_pt_lat\"],\n",
    "        text=stops_JJa[\"shape_pt_sequence\"],\n",
    "        marker={\"size\": 10},\n",
    "        line={\"width\": 4, \"color\": \"#00933C\"},\n",
    "    )\n",
    ")\n",
    "\n",
    "# fig.add_trace(\n",
    "#     go.Scattermapbox(\n",
    "#         mode=\"markers\",\n",
    "#         lon=[-73.9851],  # Example longitude\n",
    "#         lat=[40.7580],  # Example latitude\n",
    "#         text=[\n",
    "#             \"<b>Times Square</b><br>\"\n",
    "#             \"Location: New York<br>\"\n",
    "#             \"Description: A major commercial intersection, \"\n",
    "#             \"tourist destination, entertainment center, and \"\n",
    "#             \"neighborhood in the Midtown Manhattan section of New York City.\"\n",
    "#         ],  # Popup text with HTML\n",
    "#     )\n",
    "# )\n",
    "\n",
    "# Update the layout\n",
    "fig.update_layout(\n",
    "    mapbox_style=\"carto-positron\",\n",
    "    mapbox_zoom=10,\n",
    "    mapbox_center={\"lat\": 40.75, \"lon\": -73.95},\n",
    "    margin={\"r\": 0, \"t\": 0, \"l\": 0, \"b\": 0},\n",
    ")\n",
    "\n",
    "# fig.add_layout_image(\n",
    "#     dict(\n",
    "#         source=\"https://raw.githubusercontent.com/cldougl/plot_images/add_r_img/vox.png\",\n",
    "#         xref=\"paper\",\n",
    "#         yref=\"paper\",\n",
    "#         x=1,\n",
    "#         y=1.05,\n",
    "#         sizex=0.2,\n",
    "#         sizey=0.2,\n",
    "#         xanchor=\"right\",\n",
    "#         yanchor=\"bottom\",\n",
    "#     )\n",
    "# )\n",
    "\n",
    "# fig.add_layout_image(dict(source=\"Q_train.png\", x=40.75, y=-73.95))\n",
    "\n",
    "# Initialize the Dash app\n",
    "app = dash.Dash(__name__)\n",
    "\n",
    "app.layout = html.Div([dcc.Graph(id=\"live-map\", figure=fig)])\n",
    "\n",
    "if __name__ == \"__main__\":\n",
    "    app.run_server(debug=True)"
   ]
  },
  {
   "cell_type": "code",
   "execution_count": null,
   "metadata": {},
   "outputs": [],
   "source": []
  }
 ],
 "metadata": {
  "kernelspec": {
   "display_name": "base",
   "language": "python",
   "name": "python3"
  },
  "language_info": {
   "codemirror_mode": {
    "name": "ipython",
    "version": 3
   },
   "file_extension": ".py",
   "mimetype": "text/x-python",
   "name": "python",
   "nbconvert_exporter": "python",
   "pygments_lexer": "ipython3",
   "version": "3.12.2"
  }
 },
 "nbformat": 4,
 "nbformat_minor": 2
}
