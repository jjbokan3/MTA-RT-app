{
 "cells": [
  {
   "cell_type": "code",
   "metadata": {
    "ExecuteTime": {
     "end_time": "2024-07-12T20:20:21.871456Z",
     "start_time": "2024-07-12T20:20:21.150526Z"
    }
   },
   "source": [
    "# IMPORTS\n",
    "import requests\n",
    "\n",
    "import gtfs_realtime_NYCT_pb2\n",
    "import gtfs_realtime_pb2\n",
    "import polars as pl\n",
    "from polars import col\n",
    "import re\n",
    "from PIL import Image\n",
    "import dash\n",
    "from dash import dcc, html\n",
    "from dash.dependencies import Input, Output\n",
    "import plotly.graph_objects as go\n",
    "import pandas as pd\n",
    "from PIL import Image\n",
    "import pyarrow\n",
    "import json\n",
    "import bisect\n",
    "import math"
   ],
   "outputs": [],
   "execution_count": 1
  },
  {
   "cell_type": "markdown",
   "metadata": {},
   "source": "## Read in Flat Files"
  },
  {
   "cell_type": "code",
   "metadata": {
    "ExecuteTime": {
     "end_time": "2024-07-12T20:20:21.944284Z",
     "start_time": "2024-07-12T20:20:21.872083Z"
    }
   },
   "source": [
    "# READ IN MAP\n",
    "import plotly.io as pio\n",
    "\n",
    "# Load the plot from an HTML file\n",
    "with open(\"map_plot.json\", \"r\") as f:\n",
    "    fig_json = json.load(f)\n",
    "\n",
    "fig = go.Figure(fig_json)"
   ],
   "outputs": [],
   "execution_count": 2
  },
  {
   "cell_type": "code",
   "metadata": {
    "ExecuteTime": {
     "end_time": "2024-07-12T20:20:21.978322Z",
     "start_time": "2024-07-12T20:20:21.944898Z"
    }
   },
   "source": [
    "# FLAT FILE IMPORT\n",
    "stops = pl.read_csv(\n",
    "    \"stops.txt\",\n",
    "    separator=\",\",\n",
    "    has_header=True,\n",
    "    schema_overrides={\"parent_station\": pl.String},\n",
    ")\n",
    "\n",
    "shapes = pl.read_csv(\n",
    "    \"shapes.txt\",\n",
    "    separator=\",\",\n",
    "    has_header=True,\n",
    ")\n",
    "\n",
    "colors = pl.read_csv(\"MTA_Colors_20240623.csv\", separator=\",\", has_header=True)"
   ],
   "outputs": [],
   "execution_count": 3
  },
  {
   "cell_type": "markdown",
   "metadata": {},
   "source": [
    "## Constants"
   ]
  },
  {
   "cell_type": "code",
   "metadata": {
    "ExecuteTime": {
     "end_time": "2024-07-12T20:20:21.982126Z",
     "start_time": "2024-07-12T20:20:21.980476Z"
    }
   },
   "source": [
    "STOP_STATUS = {\"0\": \"Incoming At\", \"1\": \"Stopped At\", \"2\": \"In Transit To\"}"
   ],
   "outputs": [],
   "execution_count": 4
  },
  {
   "cell_type": "code",
   "metadata": {
    "ExecuteTime": {
     "end_time": "2024-07-12T20:20:21.984509Z",
     "start_time": "2024-07-12T20:20:21.982639Z"
    }
   },
   "source": [
    "API_ENDPOINTS = {\n",
    "    \"ACE\": r\"https://api-endpoint.mta.info/Dataservice/mtagtfsfeeds/nyct%2Fgtfs-ace\",\n",
    "    \"BDFM\": r\"https://api-endpoint.mta.info/Dataservice/mtagtfsfeeds/nyct%2Fgtfs-bdfm\",\n",
    "    \"G\": r\"https://api-endpoint.mta.info/Dataservice/mtagtfsfeeds/nyct%2Fgtfs-g\",\n",
    "    \"JZ\": r\"https://api-endpoint.mta.info/Dataservice/mtagtfsfeeds/nyct%2Fgtfs-jz\",\n",
    "    \"NQRW\": r\"https://api-endpoint.mta.info/Dataservice/mtagtfsfeeds/nyct%2Fgtfs-nqrw\",\n",
    "    \"L\": r\"https://api-endpoint.mta.info/Dataservice/mtagtfsfeeds/nyct%2Fgtfs-l\",\n",
    "    \"1234567\": r\"https://api-endpoint.mta.info/Dataservice/mtagtfsfeeds/nyct%2Fgtfs\",\n",
    "    \"SI\": r\"https://api-endpoint.mta.info/Dataservice/mtagtfsfeeds/nyct%2Fgtfs-si\",\n",
    "}"
   ],
   "outputs": [],
   "execution_count": 5
  },
  {
   "cell_type": "code",
   "metadata": {
    "ExecuteTime": {
     "end_time": "2024-07-12T20:20:22.247545Z",
     "start_time": "2024-07-12T20:20:21.986281Z"
    }
   },
   "source": [
    "response = requests.get(API_ENDPOINTS[\"1234567\"])\n",
    "feed = gtfs_realtime_pb2.FeedMessage()\n",
    "feed.ParseFromString(response.content)"
   ],
   "outputs": [
    {
     "data": {
      "text/plain": [
       "245830"
      ]
     },
     "execution_count": 6,
     "metadata": {},
     "output_type": "execute_result"
    }
   ],
   "execution_count": 6
  },
  {
   "cell_type": "markdown",
   "metadata": {},
   "source": [
    "## Functions"
   ]
  },
  {
   "cell_type": "code",
   "metadata": {
    "ExecuteTime": {
     "end_time": "2024-07-12T20:20:22.252713Z",
     "start_time": "2024-07-12T20:20:22.248899Z"
    }
   },
   "source": [
    "def haversine(lat1, lon1, lat2, lon2):\n",
    "    R = 6371  # Earth radius in kilometers\n",
    "    dlat = math.radians(lat2 - lat1)\n",
    "    dlon = math.radians(lon2 - lon1)\n",
    "    a = (\n",
    "        math.sin(dlat / 2) ** 2\n",
    "        + math.cos(math.radians(lat1))\n",
    "        * math.cos(math.radians(lat2))\n",
    "        * math.sin(dlon / 2) ** 2\n",
    "    )\n",
    "    c = 2 * math.atan2(math.sqrt(a), math.sqrt(1 - a))\n",
    "    distance = R * c\n",
    "    return distance"
   ],
   "outputs": [],
   "execution_count": 7
  },
  {
   "cell_type": "code",
   "metadata": {
    "ExecuteTime": {
     "end_time": "2024-07-12T20:20:22.257257Z",
     "start_time": "2024-07-12T20:20:22.253758Z"
    }
   },
   "source": [
    "# Define a function to calculate distance using lead coordinates\n",
    "def calculate_distance_within_line(df):\n",
    "\n",
    "    df = df.sort(\"shape_pt_sequence\")\n",
    "\n",
    "    # Create lead columns for lat and lon\n",
    "    df = df.with_columns(\n",
    "        [\n",
    "            df[\"shape_pt_lat\"].shift(1).alias(\"lag_lat\"),\n",
    "            df[\"shape_pt_lon\"].shift(1).alias(\"lag_lon\"),\n",
    "        ]\n",
    "    )\n",
    "\n",
    "    # Apply the Haversine function to each row and add the result as a new column\n",
    "    return df.with_columns(\n",
    "        [\n",
    "            pl.concat_list([\"shape_pt_lat\", \"shape_pt_lon\", \"lag_lat\", \"lag_lon\"])\n",
    "            .map_elements(\n",
    "                lambda row: (\n",
    "                    haversine(row[0], row[1], row[2], row[3])\n",
    "                    if row[2] is not None and row[3] is not None\n",
    "                    else None\n",
    "                ),\n",
    "                return_dtype=pl.Float64,\n",
    "            )\n",
    "            .alias(\"distance\")\n",
    "        ]\n",
    "    )"
   ],
   "outputs": [],
   "execution_count": 8
  },
  {
   "cell_type": "code",
   "metadata": {
    "ExecuteTime": {
     "end_time": "2024-07-12T20:20:22.260733Z",
     "start_time": "2024-07-12T20:20:22.258288Z"
    }
   },
   "source": [
    "def linear_distance(lon1, lat1, lon2, lat2, fraction):\n",
    "    lat = lat1 + (lat2 - lat1) * fraction\n",
    "    lon = lon1 + (lon2 - lon1) * fraction\n",
    "    return lat, lon"
   ],
   "outputs": [],
   "execution_count": 9
  },
  {
   "cell_type": "code",
   "metadata": {
    "ExecuteTime": {
     "end_time": "2024-07-12T20:20:22.265656Z",
     "start_time": "2024-07-12T20:20:22.261590Z"
    }
   },
   "source": [
    "def calculate_position(api_time, departure, arrival, df: pl.DataFrame, incoming=False):\n",
    "    trip_time = arrival - departure\n",
    "    since_departure = api_time - departure\n",
    "    proportion_traveled = since_departure / trip_time\n",
    "    # TODO: Calculate proportions in case a train is skipping a stop\n",
    "\n",
    "    loc = bisect.bisect_left(\n",
    "        (cum_sum := df[\"cum_sum\"].fill_null(0).to_list()), proportion_traveled\n",
    "    )\n",
    "\n",
    "    if incoming:\n",
    "        return linear_distance(\n",
    "            temp[\"lag_lon\"][0],\n",
    "            temp[\"lag_lat\"][0],\n",
    "            temp[\"shape_pt_lon\"][0],\n",
    "            temp[\"shape_pt_lat\"][0],\n",
    "            0.9,\n",
    "        )\n",
    "    elif proportion_traveled in cum_sum:\n",
    "        return df[loc, :].select([\"shape_pt_lat\", \"shape_pt_lon\"]).row(0)\n",
    "    else:\n",
    "        temp = df[loc, :][0].to_dict(as_series=False)\n",
    "        return linear_distance(\n",
    "            temp[\"lag_lon\"][0],\n",
    "            temp[\"lag_lat\"][0],\n",
    "            temp[\"shape_pt_lon\"][0],\n",
    "            temp[\"shape_pt_lat\"][0],\n",
    "            (proportion_traveled - (cum_sum[loc - 1] if loc != 1 else 0))\n",
    "            / (cum_sum[loc] - cum_sum[loc - 1]),\n",
    "        )"
   ],
   "outputs": [],
   "execution_count": 10
  },
  {
   "metadata": {
    "ExecuteTime": {
     "end_time": "2024-07-12T20:20:22.268602Z",
     "start_time": "2024-07-12T20:20:22.266352Z"
    }
   },
   "cell_type": "code",
   "source": [
    "def plot_map(coordinates, fig, trip_id):\n",
    "    fig.add_trace(\n",
    "        go.Scattermapbox(\n",
    "            mode=\"markers\",\n",
    "            name=trip_id,\n",
    "            lon=coordinates[0],\n",
    "            lat=coordinates[1],\n",
    "            text=trip_id,\n",
    "            marker={\"size\": 8, \"color\": \"blue\"},\n",
    "            showlegend=False,\n",
    "        )\n",
    "    )"
   ],
   "outputs": [],
   "execution_count": 11
  },
  {
   "cell_type": "markdown",
   "metadata": {},
   "source": [
    "## Color cleaning"
   ]
  },
  {
   "cell_type": "code",
   "metadata": {
    "ExecuteTime": {
     "end_time": "2024-07-12T20:20:22.288520Z",
     "start_time": "2024-07-12T20:20:22.269338Z"
    }
   },
   "source": [
    "colors = colors.filter(col(\"Operator\") == \"New York City Subway\")\n",
    "colors = colors.with_columns(\n",
    "    col(\"Service\").str.split(\",\")\n",
    ")  # Split the comma-delimited values into lists\n",
    "colors = colors.explode(\"Service\")  # Explode the lists into separate rows"
   ],
   "outputs": [],
   "execution_count": 12
  },
  {
   "cell_type": "markdown",
   "metadata": {},
   "source": [
    "## Shape Cleaning"
   ]
  },
  {
   "cell_type": "code",
   "metadata": {
    "ExecuteTime": {
     "end_time": "2024-07-12T20:20:22.623181Z",
     "start_time": "2024-07-12T20:20:22.289210Z"
    }
   },
   "source": [
    "shape_unpack_re = re.compile(r\"^(\\w{1}).*\\.+(\\w+)$\")\n",
    "\n",
    "\n",
    "def shape_unpack(shape):\n",
    "    m = re.match(shape_unpack_re, shape)\n",
    "    return m.group(1), m.group(2)\n",
    "\n",
    "\n",
    "shapes_clean = shapes.with_columns(\n",
    "    [\n",
    "        shapes[\"shape_id\"]\n",
    "        .map_elements(lambda x: shape_unpack(x)[0], return_dtype=str)\n",
    "        .alias(\"Line\"),\n",
    "        shapes[\"shape_id\"]\n",
    "        .map_elements(lambda x: shape_unpack(x)[1], return_dtype=str)\n",
    "        .alias(\"Line_Variation\"),\n",
    "    ]\n",
    ")"
   ],
   "outputs": [],
   "execution_count": 13
  },
  {
   "cell_type": "markdown",
   "metadata": {},
   "source": [
    "## Stops Cleaning"
   ]
  },
  {
   "cell_type": "code",
   "metadata": {
    "ExecuteTime": {
     "end_time": "2024-07-12T20:20:22.628881Z",
     "start_time": "2024-07-12T20:20:22.623877Z"
    }
   },
   "source": [
    "stop_removal_re = r\".*[NS]$\"\n",
    "\n",
    "stops = stops.filter(~stops[\"stop_id\"].str.contains(stop_removal_re))"
   ],
   "outputs": [],
   "execution_count": 14
  },
  {
   "cell_type": "code",
   "metadata": {
    "ExecuteTime": {
     "end_time": "2024-07-12T20:20:22.634272Z",
     "start_time": "2024-07-12T20:20:22.629477Z"
    }
   },
   "source": [
    "stop_unpack_re = re.compile(r\"^(\\w{1})(\\d{2})\")\n",
    "\n",
    "\n",
    "def stop_unpack(stop):\n",
    "    m = re.match(stop_unpack_re, stop)\n",
    "    return m.group(1), m.group(2)\n",
    "\n",
    "\n",
    "stops_clean = stops[[\"stop_id\", \"stop_name\", \"stop_lat\", \"stop_lon\"]].with_columns(\n",
    "    [\n",
    "        stops[\"stop_id\"]\n",
    "        .map_elements(lambda x: stop_unpack(x)[0], return_dtype=str)\n",
    "        .alias(\"Line\"),\n",
    "        stops[\"stop_id\"]\n",
    "        .map_elements(lambda x: stop_unpack(x)[1], return_dtype=str)\n",
    "        .alias(\"Order\"),\n",
    "    ]\n",
    ")"
   ],
   "outputs": [],
   "execution_count": 15
  },
  {
   "cell_type": "code",
   "metadata": {
    "ExecuteTime": {
     "end_time": "2024-07-12T20:20:22.643493Z",
     "start_time": "2024-07-12T20:20:22.634742Z"
    }
   },
   "source": [
    "# stops_clean = stops_clean.join(line_points, left_on=\"Line\", right_on=\"Line\", how=\"left\")\n",
    "stops_clean = (\n",
    "    stops_clean.join(colors, left_on=\"Line\", right_on=\"Service\", how=\"left\")\n",
    "    .with_columns(pl.col(\"Hex color\").fill_null(\"#858585\"))\n",
    "    .select(\n",
    "        [\"stop_name\", \"stop_id\", \"stop_lat\", \"stop_lon\", \"Line\", \"Order\", \"Hex color\"]\n",
    "    )\n",
    ")"
   ],
   "outputs": [],
   "execution_count": 16
  },
  {
   "metadata": {
    "ExecuteTime": {
     "end_time": "2024-07-12T20:20:22.646248Z",
     "start_time": "2024-07-12T20:20:22.644044Z"
    }
   },
   "cell_type": "code",
   "source": [
    "stop_lookup = stops_clean.select(['stop_id', 'stop_lat', 'stop_lon']).to_dict(as_series=False)\n",
    "stop_lookup = {x: (y,z) for (x,y,z) in zip(*stop_lookup.values())}\n"
   ],
   "outputs": [],
   "execution_count": 17
  },
  {
   "cell_type": "markdown",
   "metadata": {},
   "source": [
    "## Merge Shaps and Stops"
   ]
  },
  {
   "cell_type": "code",
   "metadata": {
    "ExecuteTime": {
     "end_time": "2024-07-12T20:20:22.659932Z",
     "start_time": "2024-07-12T20:20:22.646736Z"
    }
   },
   "source": [
    "shapes_final = shapes_clean.join(\n",
    "    stops_clean.select([\"stop_lon\", \"stop_lat\", \"stop_name\", \"stop_id\"]),\n",
    "    left_on=(\"shape_pt_lon\", \"shape_pt_lat\"),\n",
    "    right_on=(\"stop_lon\", \"stop_lat\"),\n",
    "    how=\"left\",\n",
    ")"
   ],
   "outputs": [],
   "execution_count": 18
  },
  {
   "cell_type": "markdown",
   "metadata": {},
   "source": [
    "## Master train info"
   ]
  },
  {
   "cell_type": "code",
   "metadata": {
    "ExecuteTime": {
     "end_time": "2024-07-12T20:20:22.663370Z",
     "start_time": "2024-07-12T20:20:22.660499Z"
    }
   },
   "source": [
    "def departure_time(updates):\n",
    "    try:\n",
    "        return updates[0][0].departure.time\n",
    "    except IndexError:\n",
    "        return None\n",
    "\n",
    "\n",
    "def get_stop(updates):\n",
    "    try:\n",
    "        return updates[0][0].stop_id\n",
    "    except IndexError:\n",
    "        return None"
   ],
   "outputs": [],
   "execution_count": 19
  },
  {
   "cell_type": "code",
   "metadata": {
    "ExecuteTime": {
     "end_time": "2024-07-12T20:20:22.667080Z",
     "start_time": "2024-07-12T20:20:22.663985Z"
    }
   },
   "source": [
    "trains_tracked = {}\n",
    "def initialize_train_table(trains_tracked):\n",
    "    for trip_id in set(\n",
    "        [x.vehicle.trip.trip_id for x in feed.entity if x.vehicle.trip.trip_id]\n",
    "    ):\n",
    "            \n",
    "        vehicle = [\n",
    "            x.vehicle\n",
    "            for x in feed.entity\n",
    "            if x.HasField(\"vehicle\") and x.vehicle.trip.trip_id == trip_id\n",
    "        ]\n",
    "        updates = [\n",
    "            x.trip_update.stop_time_update\n",
    "            for x in feed.entity\n",
    "            if x.HasField(\"trip_update\") and x.trip_update.trip.trip_id == trip_id\n",
    "        ]\n",
    "\n",
    "        if trip_id not in trains_tracked:\n",
    "            trains_tracked[trip_id] = {\n",
    "                \"prev_departure_time\": departure_time(updates),\n",
    "                \"prev_departure_station\": get_stop(updates),\n",
    "                \"next_station\": get_stop(updates),\n",
    "                \"current_schedule\": updates,\n",
    "                \"current_loc_info\": vehicle,\n",
    "            }\n",
    "        else:\n",
    "            if get_stop(updates) != trains_tracked[trip_id]['next station']:\n",
    "                trains_tracked[trip_id]['prev_departure_station'] = trains_tracked[trip_id]['next_station']\n",
    "                trains_tracked[trip_id]['next_station'] = get_stop(updates)\n",
    "            trains_tracked[trip_id][\"current_schedule\"] = updates\n",
    "        \n",
    "def update_train_table(trains_tracked):\n",
    "    for trip_id in set(\n",
    "            [x.vehicle.trip.trip_id for x in feed.entity if x.vehicle.trip.trip_id]\n",
    "    ):\n",
    "        vehicle = [\n",
    "            x.vehicle\n",
    "            for x in feed.entity\n",
    "            if x.HasField(\"vehicle\") and x.vehicle.trip.trip_id == trip_id\n",
    "        ]\n",
    "        updates = [\n",
    "            x.trip_update.stop_time_update\n",
    "            for x in feed.entity\n",
    "            if x.HasField(\"trip_update\") and x.trip_update.trip.trip_id == trip_id\n",
    "        ]\n"
   ],
   "outputs": [],
   "execution_count": 20
  },
  {
   "metadata": {
    "ExecuteTime": {
     "end_time": "2024-07-12T20:23:01.678733Z",
     "start_time": "2024-07-12T20:22:24.950674Z"
    }
   },
   "cell_type": "code",
   "source": "initialize_train_table(trains_tracked)",
   "outputs": [
    {
     "ename": "KeyError",
     "evalue": "'next station'",
     "output_type": "error",
     "traceback": [
      "\u001B[0;31m---------------------------------------------------------------------------\u001B[0m",
      "\u001B[0;31mKeyError\u001B[0m                                  Traceback (most recent call last)",
      "Cell \u001B[0;32mIn[28], line 1\u001B[0m\n\u001B[0;32m----> 1\u001B[0m \u001B[43minitialize_train_table\u001B[49m\u001B[43m(\u001B[49m\u001B[43mtrains_tracked\u001B[49m\u001B[43m)\u001B[49m\n",
      "Cell \u001B[0;32mIn[20], line 27\u001B[0m, in \u001B[0;36minitialize_train_table\u001B[0;34m(trains_tracked)\u001B[0m\n\u001B[1;32m     19\u001B[0m     trains_tracked[trip_id] \u001B[38;5;241m=\u001B[39m {\n\u001B[1;32m     20\u001B[0m         \u001B[38;5;124m\"\u001B[39m\u001B[38;5;124mprev_departure_time\u001B[39m\u001B[38;5;124m\"\u001B[39m: departure_time(updates),\n\u001B[1;32m     21\u001B[0m         \u001B[38;5;124m\"\u001B[39m\u001B[38;5;124mprev_departure_station\u001B[39m\u001B[38;5;124m\"\u001B[39m: get_stop(updates),\n\u001B[0;32m   (...)\u001B[0m\n\u001B[1;32m     24\u001B[0m         \u001B[38;5;124m\"\u001B[39m\u001B[38;5;124mcurrent_loc_info\u001B[39m\u001B[38;5;124m\"\u001B[39m: vehicle,\n\u001B[1;32m     25\u001B[0m     }\n\u001B[1;32m     26\u001B[0m \u001B[38;5;28;01melse\u001B[39;00m:\n\u001B[0;32m---> 27\u001B[0m     \u001B[38;5;28;01mif\u001B[39;00m get_stop(updates) \u001B[38;5;241m!=\u001B[39m \u001B[43mtrains_tracked\u001B[49m\u001B[43m[\u001B[49m\u001B[43mtrip_id\u001B[49m\u001B[43m]\u001B[49m\u001B[43m[\u001B[49m\u001B[38;5;124;43m'\u001B[39;49m\u001B[38;5;124;43mnext station\u001B[39;49m\u001B[38;5;124;43m'\u001B[39;49m\u001B[43m]\u001B[49m:\n\u001B[1;32m     28\u001B[0m         trains_tracked[trip_id][\u001B[38;5;124m'\u001B[39m\u001B[38;5;124mprev_departure_station\u001B[39m\u001B[38;5;124m'\u001B[39m] \u001B[38;5;241m=\u001B[39m trains_tracked[trip_id][\u001B[38;5;124m'\u001B[39m\u001B[38;5;124mnext_station\u001B[39m\u001B[38;5;124m'\u001B[39m]\n\u001B[1;32m     29\u001B[0m         trains_tracked[trip_id][\u001B[38;5;124m'\u001B[39m\u001B[38;5;124mnext_station\u001B[39m\u001B[38;5;124m'\u001B[39m] \u001B[38;5;241m=\u001B[39m get_stop(updates)\n",
      "\u001B[0;31mKeyError\u001B[0m: 'next station'"
     ]
    }
   ],
   "execution_count": 28
  },
  {
   "cell_type": "markdown",
   "metadata": {},
   "source": [
    "## Testing"
   ]
  },
  {
   "cell_type": "code",
   "metadata": {
    "ExecuteTime": {
     "end_time": "2024-07-12T20:20:22.672576Z",
     "start_time": "2024-07-12T20:20:22.670230Z"
    }
   },
   "source": [
    "train_route = shapes_final.filter(pl.col(\"shape_id\") == \"4..S01R\")"
   ],
   "outputs": [],
   "execution_count": 22
  },
  {
   "cell_type": "code",
   "metadata": {
    "ExecuteTime": {
     "end_time": "2024-07-12T20:20:22.675498Z",
     "start_time": "2024-07-12T20:20:22.673051Z"
    }
   },
   "source": [
    "prev_stop = train_route.select(\n",
    "    [\n",
    "        pl.arg_where(pl.col(\"stop_id\") == \"142\"),\n",
    "    ]\n",
    ")[0, 0]\n",
    "\n",
    "next_stop = train_route.select(\n",
    "    [\n",
    "        pl.arg_where(pl.col(\"stop_id\") == \"139\"),\n",
    "    ]\n",
    ")[0, 0]"
   ],
   "outputs": [],
   "execution_count": 23
  },
  {
   "cell_type": "code",
   "metadata": {
    "ExecuteTime": {
     "end_time": "2024-07-12T20:20:22.965974Z",
     "start_time": "2024-07-12T20:20:22.678845Z"
    }
   },
   "source": [
    "in_route = train_route[prev_stop : next_stop + 1]"
   ],
   "outputs": [
    {
     "ename": "TypeError",
     "evalue": "slice indices must be integers or None or have an __index__ method",
     "output_type": "error",
     "traceback": [
      "\u001B[0;31m---------------------------------------------------------------------------\u001B[0m",
      "\u001B[0;31mTypeError\u001B[0m                                 Traceback (most recent call last)",
      "File \u001B[0;32m~/Dev Work/MTA Real Time Project/mta_python/lib/python3.12/site-packages/polars/_utils/getitem.py:164\u001B[0m, in \u001B[0;36mget_df_item_by_key\u001B[0;34m(df, key)\u001B[0m\n\u001B[1;32m    163\u001B[0m \u001B[38;5;28;01mtry\u001B[39;00m:\n\u001B[0;32m--> 164\u001B[0m     \u001B[38;5;28;01mreturn\u001B[39;00m \u001B[43m_select_rows\u001B[49m\u001B[43m(\u001B[49m\u001B[43mdf\u001B[49m\u001B[43m,\u001B[49m\u001B[43m \u001B[49m\u001B[43mkey\u001B[49m\u001B[43m)\u001B[49m  \u001B[38;5;66;03m# type: ignore[arg-type]\u001B[39;00m\n\u001B[1;32m    165\u001B[0m \u001B[38;5;28;01mexcept\u001B[39;00m \u001B[38;5;167;01mTypeError\u001B[39;00m:\n",
      "File \u001B[0;32m~/Dev Work/MTA Real Time Project/mta_python/lib/python3.12/site-packages/polars/_utils/getitem.py:292\u001B[0m, in \u001B[0;36m_select_rows\u001B[0;34m(df, key)\u001B[0m\n\u001B[1;32m    291\u001B[0m \u001B[38;5;28;01mif\u001B[39;00m \u001B[38;5;28misinstance\u001B[39m(key, \u001B[38;5;28mslice\u001B[39m):\n\u001B[0;32m--> 292\u001B[0m     \u001B[38;5;28;01mreturn\u001B[39;00m \u001B[43m_select_rows_by_slice\u001B[49m\u001B[43m(\u001B[49m\u001B[43mdf\u001B[49m\u001B[43m,\u001B[49m\u001B[43m \u001B[49m\u001B[43mkey\u001B[49m\u001B[43m)\u001B[49m\n\u001B[1;32m    294\u001B[0m \u001B[38;5;28;01melif\u001B[39;00m \u001B[38;5;28misinstance\u001B[39m(key, \u001B[38;5;28mrange\u001B[39m):\n",
      "File \u001B[0;32m~/Dev Work/MTA Real Time Project/mta_python/lib/python3.12/site-packages/polars/_utils/getitem.py:321\u001B[0m, in \u001B[0;36m_select_rows_by_slice\u001B[0;34m(df, key)\u001B[0m\n\u001B[1;32m    320\u001B[0m \u001B[38;5;28;01mdef\u001B[39;00m \u001B[38;5;21m_select_rows_by_slice\u001B[39m(df: DataFrame, key: \u001B[38;5;28mslice\u001B[39m) \u001B[38;5;241m-\u001B[39m\u001B[38;5;241m>\u001B[39m DataFrame:\n\u001B[0;32m--> 321\u001B[0m     \u001B[38;5;28;01mreturn\u001B[39;00m \u001B[43mPolarsSlice\u001B[49m\u001B[43m(\u001B[49m\u001B[43mdf\u001B[49m\u001B[43m)\u001B[49m\u001B[38;5;241;43m.\u001B[39;49m\u001B[43mapply\u001B[49m\u001B[43m(\u001B[49m\u001B[43mkey\u001B[49m\u001B[43m)\u001B[49m\n",
      "File \u001B[0;32m~/Dev Work/MTA Real Time Project/mta_python/lib/python3.12/site-packages/polars/_utils/slice.py:84\u001B[0m, in \u001B[0;36mPolarsSlice.apply\u001B[0;34m(self, s)\u001B[0m\n\u001B[1;32m     83\u001B[0m \u001B[38;5;66;03m# normalise slice\u001B[39;00m\n\u001B[0;32m---> 84\u001B[0m \u001B[38;5;28;43mself\u001B[39;49m\u001B[38;5;241;43m.\u001B[39;49m\u001B[43m_slice_setup\u001B[49m\u001B[43m(\u001B[49m\u001B[43ms\u001B[49m\u001B[43m)\u001B[49m\n\u001B[1;32m     86\u001B[0m \u001B[38;5;66;03m# check for fast-paths / single-operation calls\u001B[39;00m\n",
      "File \u001B[0;32m~/Dev Work/MTA Real Time Project/mta_python/lib/python3.12/site-packages/polars/_utils/slice.py:56\u001B[0m, in \u001B[0;36mPolarsSlice._slice_setup\u001B[0;34m(self, s)\u001B[0m\n\u001B[1;32m     55\u001B[0m obj_len \u001B[38;5;241m=\u001B[39m \u001B[38;5;28mlen\u001B[39m(\u001B[38;5;28mself\u001B[39m\u001B[38;5;241m.\u001B[39mobj)\n\u001B[0;32m---> 56\u001B[0m start, stop, stride \u001B[38;5;241m=\u001B[39m \u001B[38;5;28;43mslice\u001B[39;49m\u001B[43m(\u001B[49m\u001B[43ms\u001B[49m\u001B[38;5;241;43m.\u001B[39;49m\u001B[43mstart\u001B[49m\u001B[43m,\u001B[49m\u001B[43m \u001B[49m\u001B[43ms\u001B[49m\u001B[38;5;241;43m.\u001B[39;49m\u001B[43mstop\u001B[49m\u001B[43m,\u001B[49m\u001B[43m \u001B[49m\u001B[43ms\u001B[49m\u001B[38;5;241;43m.\u001B[39;49m\u001B[43mstep\u001B[49m\u001B[43m)\u001B[49m\u001B[38;5;241;43m.\u001B[39;49m\u001B[43mindices\u001B[49m\u001B[43m(\u001B[49m\u001B[43mobj_len\u001B[49m\u001B[43m)\u001B[49m\n\u001B[1;32m     58\u001B[0m \u001B[38;5;66;03m# check if slice is actually unbounded\u001B[39;00m\n",
      "\u001B[0;31mTypeError\u001B[0m: slice indices must be integers or None or have an __index__ method",
      "\nDuring handling of the above exception, another exception occurred:\n",
      "\u001B[0;31mTypeError\u001B[0m                                 Traceback (most recent call last)",
      "Cell \u001B[0;32mIn[24], line 1\u001B[0m\n\u001B[0;32m----> 1\u001B[0m in_route \u001B[38;5;241m=\u001B[39m \u001B[43mtrain_route\u001B[49m\u001B[43m[\u001B[49m\u001B[43mprev_stop\u001B[49m\u001B[43m \u001B[49m\u001B[43m:\u001B[49m\u001B[43m \u001B[49m\u001B[43mnext_stop\u001B[49m\u001B[43m \u001B[49m\u001B[38;5;241;43m+\u001B[39;49m\u001B[43m \u001B[49m\u001B[38;5;241;43m1\u001B[39;49m\u001B[43m]\u001B[49m\n",
      "File \u001B[0;32m~/Dev Work/MTA Real Time Project/mta_python/lib/python3.12/site-packages/polars/dataframe/frame.py:1183\u001B[0m, in \u001B[0;36mDataFrame.__getitem__\u001B[0;34m(self, key)\u001B[0m\n\u001B[1;32m   1169\u001B[0m \u001B[38;5;28;01mdef\u001B[39;00m \u001B[38;5;21m__getitem__\u001B[39m(\n\u001B[1;32m   1170\u001B[0m     \u001B[38;5;28mself\u001B[39m,\n\u001B[1;32m   1171\u001B[0m     key: (\n\u001B[0;32m   (...)\u001B[0m\n\u001B[1;32m   1180\u001B[0m     ),\n\u001B[1;32m   1181\u001B[0m ) \u001B[38;5;241m-\u001B[39m\u001B[38;5;241m>\u001B[39m DataFrame \u001B[38;5;241m|\u001B[39m Series \u001B[38;5;241m|\u001B[39m Any:\n\u001B[1;32m   1182\u001B[0m \u001B[38;5;250m    \u001B[39m\u001B[38;5;124;03m\"\"\"Get part of the DataFrame as a new DataFrame, Series, or scalar.\"\"\"\u001B[39;00m\n\u001B[0;32m-> 1183\u001B[0m     \u001B[38;5;28;01mreturn\u001B[39;00m \u001B[43mget_df_item_by_key\u001B[49m\u001B[43m(\u001B[49m\u001B[38;5;28;43mself\u001B[39;49m\u001B[43m,\u001B[49m\u001B[43m \u001B[49m\u001B[43mkey\u001B[49m\u001B[43m)\u001B[49m\n",
      "File \u001B[0;32m~/Dev Work/MTA Real Time Project/mta_python/lib/python3.12/site-packages/polars/_utils/getitem.py:166\u001B[0m, in \u001B[0;36mget_df_item_by_key\u001B[0;34m(df, key)\u001B[0m\n\u001B[1;32m    164\u001B[0m     \u001B[38;5;28;01mreturn\u001B[39;00m _select_rows(df, key)  \u001B[38;5;66;03m# type: ignore[arg-type]\u001B[39;00m\n\u001B[1;32m    165\u001B[0m \u001B[38;5;28;01mexcept\u001B[39;00m \u001B[38;5;167;01mTypeError\u001B[39;00m:\n\u001B[0;32m--> 166\u001B[0m     \u001B[38;5;28;01mreturn\u001B[39;00m \u001B[43m_select_columns\u001B[49m\u001B[43m(\u001B[49m\u001B[43mdf\u001B[49m\u001B[43m,\u001B[49m\u001B[43m \u001B[49m\u001B[43mkey\u001B[49m\u001B[43m)\u001B[49m\n",
      "File \u001B[0;32m~/Dev Work/MTA Real Time Project/mta_python/lib/python3.12/site-packages/polars/_utils/getitem.py:199\u001B[0m, in \u001B[0;36m_select_columns\u001B[0;34m(df, key)\u001B[0m\n\u001B[1;32m    197\u001B[0m         stop \u001B[38;5;241m=\u001B[39m df\u001B[38;5;241m.\u001B[39mget_column_index(stop) \u001B[38;5;241m+\u001B[39m \u001B[38;5;241m1\u001B[39m\n\u001B[1;32m    198\u001B[0m     int_slice \u001B[38;5;241m=\u001B[39m \u001B[38;5;28mslice\u001B[39m(start, stop, step)\n\u001B[0;32m--> 199\u001B[0m     rng \u001B[38;5;241m=\u001B[39m \u001B[38;5;28;43mrange\u001B[39;49m\u001B[43m(\u001B[49m\u001B[43mdf\u001B[49m\u001B[38;5;241;43m.\u001B[39;49m\u001B[43mwidth\u001B[49m\u001B[43m)\u001B[49m\u001B[43m[\u001B[49m\u001B[43mint_slice\u001B[49m\u001B[43m]\u001B[49m\n\u001B[1;32m    200\u001B[0m     \u001B[38;5;28;01mreturn\u001B[39;00m _select_columns_by_index(df, rng)\n\u001B[1;32m    202\u001B[0m \u001B[38;5;28;01melif\u001B[39;00m \u001B[38;5;28misinstance\u001B[39m(key, \u001B[38;5;28mrange\u001B[39m):\n",
      "\u001B[0;31mTypeError\u001B[0m: slice indices must be integers or None or have an __index__ method"
     ]
    }
   ],
   "execution_count": 24
  },
  {
   "cell_type": "code",
   "metadata": {},
   "source": [
    "# Group by 'Line', sort each group by 'line_order', and apply the distance calculation\n",
    "result = in_route.group_by(\"Line\", maintain_order=True).map_groups(\n",
    "    calculate_distance_within_line\n",
    ")\n",
    "\n",
    "\n",
    "sums = result.select(pl.col(\"distance\").drop_nulls()).to_series().sum()\n",
    "result = result.with_columns((result[\"distance\"] / sums).alias(\"proportion\"))\n",
    "result = result.with_columns(pl.col(\"proportion\").cum_sum().round(7).alias(\"cum_sum\"))"
   ],
   "outputs": [],
   "execution_count": null
  },
  {
   "cell_type": "code",
   "metadata": {
    "ExecuteTime": {
     "end_time": "2024-07-12T20:20:22.968763Z",
     "start_time": "2024-07-12T20:20:22.968712Z"
    }
   },
   "source": [
    "result"
   ],
   "outputs": [],
   "execution_count": null
  },
  {
   "cell_type": "code",
   "metadata": {},
   "source": [
    "calculate_position(1720729868, 1720729808, 1720729888, result)"
   ],
   "outputs": [],
   "execution_count": null
  },
  {
   "cell_type": "code",
   "metadata": {},
   "source": [
    "coords = [\n",
    "    calculate_position(x, 1720729828, 1720729888, result)\n",
    "    for x in range(1720729828, 1720729889)\n",
    "]"
   ],
   "outputs": [],
   "execution_count": null
  },
  {
   "cell_type": "code",
   "metadata": {},
   "source": [
    "import plotly.graph_objects as go\n",
    "\n",
    "# Example list of coordinates (latitude, longitude)\n",
    "\n",
    "\n",
    "# Separate the list of tuples into two lists: latitudes and longitudes\n",
    "latitudes, longitudes = zip(*coords)\n",
    "\n",
    "# Create a scatter plot on a map\n",
    "fig = go.Figure(\n",
    "    go.Scattermapbox(\n",
    "        mode=\"markers+lines\",\n",
    "        lon=longitudes,\n",
    "        lat=latitudes,\n",
    "        marker={\"size\": 10},\n",
    "        line=dict(width=2, color=\"blue\"),\n",
    "    )\n",
    ")\n",
    "\n",
    "# Set the layout of the map\n",
    "fig.update_layout(\n",
    "    mapbox={\n",
    "        \"style\": \"open-street-map\",\n",
    "        \"center\": {\n",
    "            \"lat\": sum(latitudes) / len(latitudes),\n",
    "            \"lon\": sum(longitudes) / len(longitudes),\n",
    "        },\n",
    "        \"zoom\": 10,\n",
    "    },\n",
    "    showlegend=False,\n",
    ")\n",
    "\n",
    "# Show the plot\n",
    "fig.show()"
   ],
   "outputs": [],
   "execution_count": null
  },
  {
   "cell_type": "code",
   "metadata": {},
   "source": [
    "[\n",
    "    x\n",
    "    for x in feed.entity\n",
    "    if any(\n",
    "        [\n",
    "            x.vehicle.trip.trip_id == \"109300_2..N01R\",\n",
    "            x.trip_update.trip.trip_id == \"109300_2..N01R\",\n",
    "        ]\n",
    "    )\n",
    "]"
   ],
   "outputs": [],
   "execution_count": null
  },
  {
   "cell_type": "code",
   "metadata": {},
   "source": [
    "train_4 = [\n",
    "    x\n",
    "    for x in feed.entity\n",
    "    if any(\n",
    "        [\n",
    "            x.vehicle.trip.trip_id == \"059250_5..N66R\",\n",
    "            x.trip_update.trip.trip_id == \"059250_5..N66R\",\n",
    "        ]\n",
    "    )\n",
    "]"
   ],
   "outputs": [],
   "execution_count": null
  },
  {
   "cell_type": "code",
   "metadata": {},
   "source": [
    "train_4"
   ],
   "outputs": [],
   "execution_count": null
  },
  {
   "cell_type": "code",
   "metadata": {},
   "source": [
    "trains_tracked[\"059250_5..N66R\"][\"current_schedule\"][0][0].arrival.time"
   ],
   "outputs": [],
   "execution_count": null
  },
  {
   "cell_type": "code",
   "metadata": {},
   "source": [
    "test = [x for x in feed.entity if x.trip_update.trip.trip_id == \"059250_5..N66R\"]\n",
    "test[0]"
   ],
   "outputs": [],
   "execution_count": null
  },
  {
   "cell_type": "code",
   "metadata": {},
   "source": [
    "trains_tracked = {}"
   ],
   "outputs": [],
   "execution_count": null
  },
  {
   "cell_type": "code",
   "metadata": {},
   "source": [
    "list(list(trains_tracked.values())[0].values())[2]"
   ],
   "outputs": [],
   "execution_count": null
  },
  {
   "cell_type": "code",
   "metadata": {},
   "source": [
    "[list(x.values())[2] for x in list(trains_tracked.values())]"
   ],
   "outputs": [],
   "execution_count": null
  },
  {
   "cell_type": "code",
   "metadata": {},
   "source": [
    "route_to_shape = re.compile(r\"^.*_(.*)$\")"
   ],
   "outputs": [],
   "execution_count": null
  },
  {
   "metadata": {},
   "cell_type": "code",
   "source": "stops_clean.head()",
   "outputs": [],
   "execution_count": null
  },
  {
   "cell_type": "code",
   "metadata": {},
   "source": [
    "for trip_id in trains_tracked.keys():\n",
    "    current_status = trains_tracked[trip_id][\"current_loc_info\"][0].current_status\n",
    "    next_stop = trains_tracked[trip_id][\"current_loc_info\"][0].stop_id\n",
    "    next_stop = re.match(r\"^(\\d+)\", next_stop).groups(1)\n",
    "\n",
    "    match current_status:\n",
    "        case 0:\n",
    "            incoming = True\n",
    "        case 1:\n",
    "            plot_map(stop_lookup[next_stop])\n",
    "        case 2:\n",
    "            next_stop = trains_tracked[trip_id][\"current_loc_info\"][0].stop_id\n",
    "\n",
    "    train_route = shapes_final.filter(\n",
    "        pl.col(\"shape_id\") == route_to_shape.match(trip_id).groups(1)[0]\n",
    "    )\n",
    "    # trains_tracked[trip_id]['prev_departure_time']\n",
    "    prev_stop = train_route.select(\n",
    "        [\n",
    "            pl.arg_where(\n",
    "                pl.col(\"stop_id\") == trains_tracked[trip_id][\"prev_departure_station\"]\n",
    "            ),\n",
    "        ]\n",
    "    )[0, 0]\n",
    "\n",
    "    next_stop1 = train_route.select(\n",
    "        [\n",
    "            pl.arg_where(pl.col(\"stop_id\") == next_stop),\n",
    "        ]\n",
    "    )[0, 0]\n",
    "    in_route = train_route[prev_stop : next_stop1 + 1]\n",
    "    result = in_route.group_by(\"Line\", maintain_order=True).map_groups(\n",
    "        calculate_distance_within_line\n",
    "    )\n",
    "\n",
    "    sums = result.select(pl.col(\"distance\").drop_nulls()).to_series().sum()\n",
    "    result = result.with_columns((result[\"distance\"] / sums).alias(\"proportion\"))\n",
    "    result = result.with_columns(\n",
    "        pl.col(\"proportion\").cum_sum().round(7).alias(\"cum_sum\")\n",
    "    )\n",
    "    api_time = trains_tracked[trip_id][\"current_loc_info\"].timestamp\n",
    "    departure = trains_tracked[trip_id][\"prev_departure_time\"]\n",
    "    arrival = trains_tracked[trip_id][\"current_schedule\"][0][0].arrival.time\n",
    "    position = calculate_position(api_time, departure, arrival, result, incoming)\n",
    "    plot_map(position, fig, trip_id)\n",
    "    break\n",
    "    "
   ],
   "outputs": [],
   "execution_count": null
  },
  {
   "cell_type": "markdown",
   "metadata": {},
   "source": [
    "# Plotting Train"
   ]
  },
  {
   "cell_type": "code",
   "metadata": {},
   "source": [
    "fig.show()"
   ],
   "outputs": [],
   "execution_count": null
  }
 ],
 "metadata": {
  "kernelspec": {
   "display_name": "base",
   "language": "python",
   "name": "python3"
  },
  "language_info": {
   "codemirror_mode": {
    "name": "ipython",
    "version": 3
   },
   "file_extension": ".py",
   "mimetype": "text/x-python",
   "name": "python",
   "nbconvert_exporter": "python",
   "pygments_lexer": "ipython3",
   "version": "3.12.2"
  }
 },
 "nbformat": 4,
 "nbformat_minor": 2
}
